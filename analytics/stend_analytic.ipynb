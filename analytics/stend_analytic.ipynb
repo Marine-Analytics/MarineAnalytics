{
 "cells": [
  {
   "cell_type": "code",
   "execution_count": 1,
   "metadata": {
    "pycharm": {
     "name": "#%%\n"
    }
   },
   "outputs": [],
   "source": [
    "import pandas as pd\n",
    "import numpy as np\n",
    "import matplotlib.pyplot as plt\n",
    "from sklearn.tree import DecisionTreeClassifier, plot_tree\n",
    "from sklearn.model_selection import train_test_split\n",
    "from sklearn.metrics import classification_report\n",
    "from joblib import dump\n",
    "%matplotlib inline"
   ]
  },
  {
   "cell_type": "markdown",
   "metadata": {
    "pycharm": {
     "name": "#%% md\n"
    }
   },
   "source": [
    "#### Подготовка данных"
   ]
  },
  {
   "cell_type": "code",
   "execution_count": 2,
   "metadata": {
    "pycharm": {
     "name": "#%%\n"
    }
   },
   "outputs": [],
   "source": [
    "data = pd.read_csv('stend_data.csv')"
   ]
  },
  {
   "cell_type": "code",
   "execution_count": 3,
   "metadata": {
    "pycharm": {
     "name": "#%%\n"
    }
   },
   "outputs": [],
   "source": [
    "# создаю новые столбцы\n",
    "# там где значение критичные ставлю 1, в ином случае 0\n",
    "data['vibro_danger'] = data.apply(lambda x: 1 if x['vibro'] < 1020 else 0, axis=1)\n",
    "data['oxygen_danger'] = data.apply(lambda x: 1 if x['oxygen'] > 390 else 0, axis=1)\n",
    "data['temperature_danger'] = data.apply(lambda x: 1 if x['temperature'] <= 4 else 0, axis=1)"
   ]
  },
  {
   "cell_type": "code",
   "execution_count": 4,
   "metadata": {
    "pycharm": {
     "name": "#%%\n"
    }
   },
   "outputs": [
    {
     "data": {
      "text/html": [
       "<div>\n",
       "<style scoped>\n",
       "    .dataframe tbody tr th:only-of-type {\n",
       "        vertical-align: middle;\n",
       "    }\n",
       "\n",
       "    .dataframe tbody tr th {\n",
       "        vertical-align: top;\n",
       "    }\n",
       "\n",
       "    .dataframe thead th {\n",
       "        text-align: right;\n",
       "    }\n",
       "</style>\n",
       "<table border=\"1\" class=\"dataframe\">\n",
       "  <thead>\n",
       "    <tr style=\"text-align: right;\">\n",
       "      <th></th>\n",
       "      <th>date</th>\n",
       "      <th>vibro</th>\n",
       "      <th>oxygen</th>\n",
       "      <th>temperature</th>\n",
       "      <th>vibro_danger</th>\n",
       "      <th>oxygen_danger</th>\n",
       "      <th>temperature_danger</th>\n",
       "    </tr>\n",
       "  </thead>\n",
       "  <tbody>\n",
       "    <tr>\n",
       "      <th>0</th>\n",
       "      <td>1657886906</td>\n",
       "      <td>1023</td>\n",
       "      <td>373</td>\n",
       "      <td>61</td>\n",
       "      <td>0</td>\n",
       "      <td>0</td>\n",
       "      <td>0</td>\n",
       "    </tr>\n",
       "    <tr>\n",
       "      <th>1</th>\n",
       "      <td>1657886909</td>\n",
       "      <td>1023</td>\n",
       "      <td>371</td>\n",
       "      <td>67</td>\n",
       "      <td>0</td>\n",
       "      <td>0</td>\n",
       "      <td>0</td>\n",
       "    </tr>\n",
       "    <tr>\n",
       "      <th>2</th>\n",
       "      <td>1657886912</td>\n",
       "      <td>1023</td>\n",
       "      <td>366</td>\n",
       "      <td>65</td>\n",
       "      <td>0</td>\n",
       "      <td>0</td>\n",
       "      <td>0</td>\n",
       "    </tr>\n",
       "    <tr>\n",
       "      <th>3</th>\n",
       "      <td>1657886915</td>\n",
       "      <td>1023</td>\n",
       "      <td>361</td>\n",
       "      <td>60</td>\n",
       "      <td>0</td>\n",
       "      <td>0</td>\n",
       "      <td>0</td>\n",
       "    </tr>\n",
       "    <tr>\n",
       "      <th>4</th>\n",
       "      <td>1657886918</td>\n",
       "      <td>1023</td>\n",
       "      <td>357</td>\n",
       "      <td>53</td>\n",
       "      <td>0</td>\n",
       "      <td>0</td>\n",
       "      <td>0</td>\n",
       "    </tr>\n",
       "    <tr>\n",
       "      <th>...</th>\n",
       "      <td>...</td>\n",
       "      <td>...</td>\n",
       "      <td>...</td>\n",
       "      <td>...</td>\n",
       "      <td>...</td>\n",
       "      <td>...</td>\n",
       "      <td>...</td>\n",
       "    </tr>\n",
       "    <tr>\n",
       "      <th>853</th>\n",
       "      <td>1657888682</td>\n",
       "      <td>1023</td>\n",
       "      <td>398</td>\n",
       "      <td>4</td>\n",
       "      <td>0</td>\n",
       "      <td>1</td>\n",
       "      <td>1</td>\n",
       "    </tr>\n",
       "    <tr>\n",
       "      <th>854</th>\n",
       "      <td>1657888684</td>\n",
       "      <td>1023</td>\n",
       "      <td>398</td>\n",
       "      <td>4</td>\n",
       "      <td>0</td>\n",
       "      <td>1</td>\n",
       "      <td>1</td>\n",
       "    </tr>\n",
       "    <tr>\n",
       "      <th>855</th>\n",
       "      <td>1657888686</td>\n",
       "      <td>1023</td>\n",
       "      <td>407</td>\n",
       "      <td>4</td>\n",
       "      <td>0</td>\n",
       "      <td>1</td>\n",
       "      <td>1</td>\n",
       "    </tr>\n",
       "    <tr>\n",
       "      <th>856</th>\n",
       "      <td>1657888688</td>\n",
       "      <td>1023</td>\n",
       "      <td>472</td>\n",
       "      <td>4</td>\n",
       "      <td>0</td>\n",
       "      <td>1</td>\n",
       "      <td>1</td>\n",
       "    </tr>\n",
       "    <tr>\n",
       "      <th>857</th>\n",
       "      <td>1657888690</td>\n",
       "      <td>1023</td>\n",
       "      <td>692</td>\n",
       "      <td>4</td>\n",
       "      <td>0</td>\n",
       "      <td>1</td>\n",
       "      <td>1</td>\n",
       "    </tr>\n",
       "  </tbody>\n",
       "</table>\n",
       "<p>858 rows × 7 columns</p>\n",
       "</div>"
      ],
      "text/plain": [
       "           date  vibro  oxygen  temperature  vibro_danger  oxygen_danger  \\\n",
       "0    1657886906   1023     373           61             0              0   \n",
       "1    1657886909   1023     371           67             0              0   \n",
       "2    1657886912   1023     366           65             0              0   \n",
       "3    1657886915   1023     361           60             0              0   \n",
       "4    1657886918   1023     357           53             0              0   \n",
       "..          ...    ...     ...          ...           ...            ...   \n",
       "853  1657888682   1023     398            4             0              1   \n",
       "854  1657888684   1023     398            4             0              1   \n",
       "855  1657888686   1023     407            4             0              1   \n",
       "856  1657888688   1023     472            4             0              1   \n",
       "857  1657888690   1023     692            4             0              1   \n",
       "\n",
       "     temperature_danger  \n",
       "0                     0  \n",
       "1                     0  \n",
       "2                     0  \n",
       "3                     0  \n",
       "4                     0  \n",
       "..                  ...  \n",
       "853                   1  \n",
       "854                   1  \n",
       "855                   1  \n",
       "856                   1  \n",
       "857                   1  \n",
       "\n",
       "[858 rows x 7 columns]"
      ]
     },
     "execution_count": 4,
     "metadata": {},
     "output_type": "execute_result"
    }
   ],
   "source": [
    "data"
   ]
  },
  {
   "cell_type": "code",
   "execution_count": 5,
   "metadata": {
    "pycharm": {
     "name": "#%%\n"
    }
   },
   "outputs": [],
   "source": [
    "# три модели\n",
    "vibro_model = DecisionTreeClassifier(criterion='entropy', random_state=2022)\n",
    "oxygen_model = DecisionTreeClassifier(criterion='entropy', random_state=2022)\n",
    "temperature_model = DecisionTreeClassifier(criterion='entropy', random_state=2022)"
   ]
  },
  {
   "cell_type": "code",
   "execution_count": 6,
   "metadata": {
    "pycharm": {
     "name": "#%%\n"
    }
   },
   "outputs": [],
   "source": [
    "# дропаем столбец времени, он не нужен\n",
    "data = data.drop('date', axis=1)"
   ]
  },
  {
   "cell_type": "code",
   "execution_count": 7,
   "metadata": {
    "pycharm": {
     "name": "#%%\n"
    }
   },
   "outputs": [
    {
     "data": {
      "text/html": [
       "<div>\n",
       "<style scoped>\n",
       "    .dataframe tbody tr th:only-of-type {\n",
       "        vertical-align: middle;\n",
       "    }\n",
       "\n",
       "    .dataframe tbody tr th {\n",
       "        vertical-align: top;\n",
       "    }\n",
       "\n",
       "    .dataframe thead th {\n",
       "        text-align: right;\n",
       "    }\n",
       "</style>\n",
       "<table border=\"1\" class=\"dataframe\">\n",
       "  <thead>\n",
       "    <tr style=\"text-align: right;\">\n",
       "      <th></th>\n",
       "      <th>vibro</th>\n",
       "      <th>oxygen</th>\n",
       "      <th>temperature</th>\n",
       "      <th>vibro_danger</th>\n",
       "      <th>oxygen_danger</th>\n",
       "      <th>temperature_danger</th>\n",
       "    </tr>\n",
       "  </thead>\n",
       "  <tbody>\n",
       "    <tr>\n",
       "      <th>0</th>\n",
       "      <td>1023</td>\n",
       "      <td>373</td>\n",
       "      <td>61</td>\n",
       "      <td>0</td>\n",
       "      <td>0</td>\n",
       "      <td>0</td>\n",
       "    </tr>\n",
       "    <tr>\n",
       "      <th>1</th>\n",
       "      <td>1023</td>\n",
       "      <td>371</td>\n",
       "      <td>67</td>\n",
       "      <td>0</td>\n",
       "      <td>0</td>\n",
       "      <td>0</td>\n",
       "    </tr>\n",
       "    <tr>\n",
       "      <th>2</th>\n",
       "      <td>1023</td>\n",
       "      <td>366</td>\n",
       "      <td>65</td>\n",
       "      <td>0</td>\n",
       "      <td>0</td>\n",
       "      <td>0</td>\n",
       "    </tr>\n",
       "    <tr>\n",
       "      <th>3</th>\n",
       "      <td>1023</td>\n",
       "      <td>361</td>\n",
       "      <td>60</td>\n",
       "      <td>0</td>\n",
       "      <td>0</td>\n",
       "      <td>0</td>\n",
       "    </tr>\n",
       "    <tr>\n",
       "      <th>4</th>\n",
       "      <td>1023</td>\n",
       "      <td>357</td>\n",
       "      <td>53</td>\n",
       "      <td>0</td>\n",
       "      <td>0</td>\n",
       "      <td>0</td>\n",
       "    </tr>\n",
       "    <tr>\n",
       "      <th>...</th>\n",
       "      <td>...</td>\n",
       "      <td>...</td>\n",
       "      <td>...</td>\n",
       "      <td>...</td>\n",
       "      <td>...</td>\n",
       "      <td>...</td>\n",
       "    </tr>\n",
       "    <tr>\n",
       "      <th>853</th>\n",
       "      <td>1023</td>\n",
       "      <td>398</td>\n",
       "      <td>4</td>\n",
       "      <td>0</td>\n",
       "      <td>1</td>\n",
       "      <td>1</td>\n",
       "    </tr>\n",
       "    <tr>\n",
       "      <th>854</th>\n",
       "      <td>1023</td>\n",
       "      <td>398</td>\n",
       "      <td>4</td>\n",
       "      <td>0</td>\n",
       "      <td>1</td>\n",
       "      <td>1</td>\n",
       "    </tr>\n",
       "    <tr>\n",
       "      <th>855</th>\n",
       "      <td>1023</td>\n",
       "      <td>407</td>\n",
       "      <td>4</td>\n",
       "      <td>0</td>\n",
       "      <td>1</td>\n",
       "      <td>1</td>\n",
       "    </tr>\n",
       "    <tr>\n",
       "      <th>856</th>\n",
       "      <td>1023</td>\n",
       "      <td>472</td>\n",
       "      <td>4</td>\n",
       "      <td>0</td>\n",
       "      <td>1</td>\n",
       "      <td>1</td>\n",
       "    </tr>\n",
       "    <tr>\n",
       "      <th>857</th>\n",
       "      <td>1023</td>\n",
       "      <td>692</td>\n",
       "      <td>4</td>\n",
       "      <td>0</td>\n",
       "      <td>1</td>\n",
       "      <td>1</td>\n",
       "    </tr>\n",
       "  </tbody>\n",
       "</table>\n",
       "<p>858 rows × 6 columns</p>\n",
       "</div>"
      ],
      "text/plain": [
       "     vibro  oxygen  temperature  vibro_danger  oxygen_danger  \\\n",
       "0     1023     373           61             0              0   \n",
       "1     1023     371           67             0              0   \n",
       "2     1023     366           65             0              0   \n",
       "3     1023     361           60             0              0   \n",
       "4     1023     357           53             0              0   \n",
       "..     ...     ...          ...           ...            ...   \n",
       "853   1023     398            4             0              1   \n",
       "854   1023     398            4             0              1   \n",
       "855   1023     407            4             0              1   \n",
       "856   1023     472            4             0              1   \n",
       "857   1023     692            4             0              1   \n",
       "\n",
       "     temperature_danger  \n",
       "0                     0  \n",
       "1                     0  \n",
       "2                     0  \n",
       "3                     0  \n",
       "4                     0  \n",
       "..                  ...  \n",
       "853                   1  \n",
       "854                   1  \n",
       "855                   1  \n",
       "856                   1  \n",
       "857                   1  \n",
       "\n",
       "[858 rows x 6 columns]"
      ]
     },
     "execution_count": 7,
     "metadata": {},
     "output_type": "execute_result"
    }
   ],
   "source": [
    "data"
   ]
  },
  {
   "cell_type": "code",
   "execution_count": 8,
   "metadata": {
    "pycharm": {
     "name": "#%%\n"
    }
   },
   "outputs": [
    {
     "name": "stdout",
     "output_type": "stream",
     "text": [
      "TEST\n",
      "\n",
      "              precision    recall  f1-score   support\n",
      "\n",
      "           0       1.00      1.00      1.00       210\n",
      "           1       1.00      1.00      1.00         5\n",
      "\n",
      "    accuracy                           1.00       215\n",
      "   macro avg       1.00      1.00      1.00       215\n",
      "weighted avg       1.00      1.00      1.00       215\n",
      "\n",
      "TRAIN\n",
      "\n",
      "              precision    recall  f1-score   support\n",
      "\n",
      "           0       1.00      1.00      1.00       629\n",
      "           1       1.00      1.00      1.00        14\n",
      "\n",
      "    accuracy                           1.00       643\n",
      "   macro avg       1.00      1.00      1.00       643\n",
      "weighted avg       1.00      1.00      1.00       643\n",
      "\n"
     ]
    },
    {
     "data": {
      "image/png": "[encoded data removed]",
      "text/plain": [
       "<Figure size 432x288 with 1 Axes>"
      ]
     },
     "metadata": {
      "needs_background": "light"
     },
     "output_type": "display_data"
    }
   ],
   "source": [
    "# дропаю таргет\n",
    "X = data.drop(['vibro_danger', 'oxygen_danger', 'temperature_danger'], axis=1)\n",
    "y = data['vibro_danger']\n",
    "# разделяю данные на тренировочные и тестовые\n",
    "X_train, X_test, y_train, y_test = train_test_split(X, y, stratify=y, train_size=0.75, random_state=2022)\n",
    "# тренировка\n",
    "vibro_model.fit(X_train, y_train)\n",
    "# отрисовка дерева\n",
    "plot_tree(vibro_model)\n",
    "# \n",
    "y_train_pred = vibro_model.predict(X_train)\n",
    "y_test_pred = vibro_model.predict(X_test)\n",
    "print('TEST\\n\\n' + classification_report(y_test, y_test_pred))\n",
    "print('TRAIN\\n\\n' + classification_report(y_train, y_train_pred))"
   ]
  },
  {
   "cell_type": "markdown",
   "metadata": {
    "pycharm": {
     "name": "#%% md\n"
    }
   },
   "source": [
    "#### Тренировка модели для кислорода"
   ]
  },
  {
   "cell_type": "code",
   "execution_count": 9,
   "metadata": {
    "pycharm": {
     "name": "#%%\n"
    }
   },
   "outputs": [
    {
     "name": "stdout",
     "output_type": "stream",
     "text": [
      "TEST\n",
      "\n",
      "              precision    recall  f1-score   support\n",
      "\n",
      "           0       1.00      1.00      1.00       209\n",
      "           1       1.00      1.00      1.00         6\n",
      "\n",
      "    accuracy                           1.00       215\n",
      "   macro avg       1.00      1.00      1.00       215\n",
      "weighted avg       1.00      1.00      1.00       215\n",
      "\n",
      "TRAIN\n",
      "\n",
      "              precision    recall  f1-score   support\n",
      "\n",
      "           0       1.00      1.00      1.00       625\n",
      "           1       1.00      1.00      1.00        18\n",
      "\n",
      "    accuracy                           1.00       643\n",
      "   macro avg       1.00      1.00      1.00       643\n",
      "weighted avg       1.00      1.00      1.00       643\n",
      "\n"
     ]
    },
    {
     "data": {
      "image/png": "[encoded data removed]",
      "text/plain": [
       "<Figure size 432x288 with 1 Axes>"
      ]
     },
     "metadata": {
      "needs_background": "light"
     },
     "output_type": "display_data"
    }
   ],
   "source": [
    "X = data.drop(['vibro_danger', 'oxygen_danger', 'temperature_danger'], axis=1)\n",
    "y = data['oxygen_danger']\n",
    "X_train, X_test, y_train, y_test = train_test_split(X, y, stratify=y, train_size=0.75, random_state=2022)\n",
    "oxygen_model.fit(X_train, y_train)\n",
    "plot_tree(oxygen_model)\n",
    "y_train_pred = oxygen_model.predict(X_train)\n",
    "y_test_pred = oxygen_model.predict(X_test)\n",
    "print('TEST\\n\\n' + classification_report(y_test, y_test_pred))\n",
    "print('TRAIN\\n\\n' + classification_report(y_train, y_train_pred))"
   ]
  },
  {
   "cell_type": "markdown",
   "metadata": {
    "pycharm": {
     "name": "#%% md\n"
    }
   },
   "source": [
    "#### Тренировка модели для кислорода"
   ]
  },
  {
   "cell_type": "code",
   "execution_count": 10,
   "metadata": {
    "pycharm": {
     "name": "#%%\n"
    }
   },
   "outputs": [
    {
     "name": "stdout",
     "output_type": "stream",
     "text": [
      "TEST\n",
      "\n",
      "              precision    recall  f1-score   support\n",
      "\n",
      "           0       1.00      1.00      1.00       166\n",
      "           1       1.00      1.00      1.00        49\n",
      "\n",
      "    accuracy                           1.00       215\n",
      "   macro avg       1.00      1.00      1.00       215\n",
      "weighted avg       1.00      1.00      1.00       215\n",
      "\n",
      "TRAIN\n",
      "\n",
      "              precision    recall  f1-score   support\n",
      "\n",
      "           0       1.00      1.00      1.00       498\n",
      "           1       1.00      1.00      1.00       145\n",
      "\n",
      "    accuracy                           1.00       643\n",
      "   macro avg       1.00      1.00      1.00       643\n",
      "weighted avg       1.00      1.00      1.00       643\n",
      "\n"
     ]
    },
    {
     "data": {
      "image/png": "[encoded data removed]",
      "text/plain": [
       "<Figure size 432x288 with 1 Axes>"
      ]
     },
     "metadata": {
      "needs_background": "light"
     },
     "output_type": "display_data"
    }
   ],
   "source": [
    "X = data.drop(['vibro_danger', 'oxygen_danger', 'temperature_danger'], axis=1)\n",
    "y = data['temperature_danger']\n",
    "X_train, X_test, y_train, y_test = train_test_split(X, y, stratify=y, train_size=0.75, random_state=2022)\n",
    "temperature_model.fit(X_train, y_train)\n",
    "plot_tree(temperature_model)\n",
    "y_train_pred = temperature_model.predict(X_train)\n",
    "y_test_pred = temperature_model.predict(X_test)\n",
    "print('TEST\\n\\n' + classification_report(y_test, y_test_pred))\n",
    "print('TRAIN\\n\\n' + classification_report(y_train, y_train_pred))"
   ]
  },
  {
   "cell_type": "markdown",
   "metadata": {
    "pycharm": {
     "name": "#%% md\n"
    }
   },
   "source": [
    "#### Тренировка модели для кислорода"
   ]
  },
  {
   "cell_type": "code",
   "execution_count": 11,
   "metadata": {
    "pycharm": {
     "name": "#%%\n"
    }
   },
   "outputs": [
    {
     "name": "stdout",
     "output_type": "stream",
     "text": [
      "TEST\n",
      "\n",
      "              precision    recall  f1-score   support\n",
      "\n",
      "           0       1.00      1.00      1.00       166\n",
      "           1       1.00      1.00      1.00        49\n",
      "\n",
      "    accuracy                           1.00       215\n",
      "   macro avg       1.00      1.00      1.00       215\n",
      "weighted avg       1.00      1.00      1.00       215\n",
      "\n",
      "TRAIN\n",
      "\n",
      "              precision    recall  f1-score   support\n",
      "\n",
      "           0       1.00      1.00      1.00       498\n",
      "           1       1.00      1.00      1.00       145\n",
      "\n",
      "    accuracy                           1.00       643\n",
      "   macro avg       1.00      1.00      1.00       643\n",
      "weighted avg       1.00      1.00      1.00       643\n",
      "\n"
     ]
    },
    {
     "data": {
      "image/png": "[encoded data removed]",
      "text/plain": [
       "<Figure size 432x288 with 1 Axes>"
      ]
     },
     "metadata": {
      "needs_background": "light"
     },
     "output_type": "display_data"
    }
   ],
   "source": [
    "X = data.drop(['vibro_danger', 'oxygen_danger', 'temperature_danger'], axis=1)\n",
    "y = data['temperature_danger']\n",
    "X_train, X_test, y_train, y_test = train_test_split(X, y, stratify=y, train_size=0.75, random_state=2022)\n",
    "temperature_model.fit(X_train, y_train)\n",
    "plot_tree(temperature_model)\n",
    "y_train_pred = temperature_model.predict(X_train)\n",
    "y_test_pred = temperature_model.predict(X_test)\n",
    "print('TEST\\n\\n' + classification_report(y_test, y_test_pred))\n",
    "print('TRAIN\\n\\n' + classification_report(y_train, y_train_pred))"
   ]
  },
  {
   "cell_type": "markdown",
   "metadata": {
    "pycharm": {
     "name": "#%% md\n"
    }
   },
   "source": [
    "#### Сохранение моделей"
   ]
  },
  {
   "cell_type": "code",
   "execution_count": 12,
   "metadata": {
    "pycharm": {
     "name": "#%%\n"
    }
   },
   "outputs": [
    {
     "data": {
      "text/plain": [
       "['models/temperature_model.joblib']"
      ]
     },
     "execution_count": 12,
     "metadata": {},
     "output_type": "execute_result"
    }
   ],
   "source": [
    "dump(vibro_model, 'models/vibro_model.joblib')\n",
    "dump(oxygen_model, 'models/oxygen_model.joblib')\n",
    "dump(temperature_model, 'models/temperature_model.joblib')"
   ]
  },
  {
   "cell_type": "code",
   "execution_count": null,
   "metadata": {
    "pycharm": {
     "name": "#%%\n"
    }
   },
   "outputs": [],
   "source": []
  }
 ],
 "metadata": {
  "kernelspec": {
   "display_name": "Python 3.8.10 ('env': venv)",
   "language": "python",
   "name": "python3"
  },
  "language_info": {
   "codemirror_mode": {
    "name": "ipython",
    "version": 3
   },
   "file_extension": ".py",
   "mimetype": "text/x-python",
   "name": "python",
   "nbconvert_exporter": "python",
   "pygments_lexer": "ipython3",
   "version": "3.8.10"
  },
  "orig_nbformat": 4,
  "vscode": {
   "interpreter": {
    "hash": "c8210f530d41c9a5092cd8c624db0b6dc46833642f412f7136b293f48a451f89"
   }
  }
 },
 "nbformat": 4,
 "nbformat_minor": 2
}