{
 "cells": [
  {
   "cell_type": "code",
   "execution_count": 1,
   "outputs": [],
   "source": [
    "from sklearn import tree\n",
    "import pandas as pd\n",
    "import matplotlib.pyplot as plt\n",
    "import seaborn as sns\n",
    "import numpy as nm\n",
    "from sklearn.model_selection import train_test_split\n",
    "%matplotlib inline"
   ],
   "metadata": {
    "collapsed": false,
    "pycharm": {
     "name": "#%%\n"
    }
   }
  },
  {
   "cell_type": "code",
   "execution_count": 2,
   "outputs": [],
   "source": [
    "from IPython.display import SVG\n",
    "from graphviz import Source\n",
    "from IPython.display import display"
   ],
   "metadata": {
    "collapsed": false,
    "pycharm": {
     "name": "#%%\n"
    }
   }
  },
  {
   "cell_type": "code",
   "execution_count": 3,
   "outputs": [
    {
     "data": {
      "text/plain": "<IPython.core.display.HTML object>",
      "text/html": "<style>svg{width:70% !important;height:70% !important;}</style>"
     },
     "execution_count": 3,
     "metadata": {},
     "output_type": "execute_result"
    }
   ],
   "source": [
    "from IPython.display import SVG\n",
    "from graphviz import Source\n",
    "from IPython.display import display\n",
    "from IPython.display import HTML\n",
    "style = '<style>svg{width:70% !important;height:70% !important;}</style>'\n",
    "HTML(style)"
   ],
   "metadata": {
    "collapsed": false,
    "pycharm": {
     "name": "#%%\n"
    }
   }
  },
  {
   "cell_type": "code",
   "execution_count": 4,
   "outputs": [],
   "source": [
    "vibration = pd.read_csv('../data/Vodnik_VIBR.csv', index_col=0, sep=';')"
   ],
   "metadata": {
    "collapsed": false,
    "pycharm": {
     "name": "#%%\n"
    }
   }
  },
  {
   "cell_type": "code",
   "execution_count": 5,
   "outputs": [
    {
     "data": {
      "text/plain": "                     Значение Состояние значения\ndata_time                                       \n14.04.2022 17:42  7,274764787              норма\n14.04.2022 17:42  7,274764787              норма\n14.04.2022 17:43   7,27590385              норма\n14.04.2022 17:43   7,27590385              норма\n14.04.2022 17:43   7,27590385              норма",
      "text/html": "<div>\n<style scoped>\n    .dataframe tbody tr th:only-of-type {\n        vertical-align: middle;\n    }\n\n    .dataframe tbody tr th {\n        vertical-align: top;\n    }\n\n    .dataframe thead th {\n        text-align: right;\n    }\n</style>\n<table border=\"1\" class=\"dataframe\">\n  <thead>\n    <tr style=\"text-align: right;\">\n      <th></th>\n      <th>Значение</th>\n      <th>Состояние значения</th>\n    </tr>\n    <tr>\n      <th>data_time</th>\n      <th></th>\n      <th></th>\n    </tr>\n  </thead>\n  <tbody>\n    <tr>\n      <th>14.04.2022 17:42</th>\n      <td>7,274764787</td>\n      <td>норма</td>\n    </tr>\n    <tr>\n      <th>14.04.2022 17:42</th>\n      <td>7,274764787</td>\n      <td>норма</td>\n    </tr>\n    <tr>\n      <th>14.04.2022 17:43</th>\n      <td>7,27590385</td>\n      <td>норма</td>\n    </tr>\n    <tr>\n      <th>14.04.2022 17:43</th>\n      <td>7,27590385</td>\n      <td>норма</td>\n    </tr>\n    <tr>\n      <th>14.04.2022 17:43</th>\n      <td>7,27590385</td>\n      <td>норма</td>\n    </tr>\n  </tbody>\n</table>\n</div>"
     },
     "execution_count": 5,
     "metadata": {},
     "output_type": "execute_result"
    }
   ],
   "source": [
    "vibration.head()"
   ],
   "metadata": {
    "collapsed": false,
    "pycharm": {
     "name": "#%%\n"
    }
   }
  },
  {
   "cell_type": "code",
   "execution_count": 6,
   "outputs": [],
   "source": [
    "frequency = pd.read_csv('../data/Vodnik_frequency.csv', index_col=0, sep=';')"
   ],
   "metadata": {
    "collapsed": false,
    "pycharm": {
     "name": "#%%\n"
    }
   }
  },
  {
   "cell_type": "code",
   "execution_count": 7,
   "outputs": [
    {
     "data": {
      "text/plain": "(45090, 2)"
     },
     "execution_count": 7,
     "metadata": {},
     "output_type": "execute_result"
    }
   ],
   "source": [
    "# Переименовать столбец\n",
    "frequency = frequency.rename(columns= {'Значение': 'values_frequency', 'Состояние значения': 'values_state_frequency'})\n",
    "frequency.head(100)\n",
    "frequency.shape"
   ],
   "metadata": {
    "collapsed": false,
    "pycharm": {
     "name": "#%%\n"
    }
   }
  },
  {
   "cell_type": "code",
   "execution_count": 8,
   "outputs": [
    {
     "data": {
      "text/plain": "(47787, 2)"
     },
     "execution_count": 8,
     "metadata": {},
     "output_type": "execute_result"
    }
   ],
   "source": [
    "# Переименовать столбец\n",
    "vibration = vibration.rename(columns= {'Значение': 'values_vibration', 'Состояние значения': 'values_state_vibration'})\n",
    "vibration.head(100)\n",
    "vibration.shape"
   ],
   "metadata": {
    "collapsed": false,
    "pycharm": {
     "name": "#%%\n"
    }
   }
  },
  {
   "cell_type": "code",
   "execution_count": 9,
   "outputs": [
    {
     "data": {
      "text/plain": "(45202, 4)"
     },
     "execution_count": 9,
     "metadata": {},
     "output_type": "execute_result"
    }
   ],
   "source": [
    "data = pd.merge(frequency, vibration, on=[\"data_time\"],how=\"outer\", validate=\"many_to_many\").drop_duplicates()\n",
    "data.shape"
   ],
   "metadata": {
    "collapsed": false,
    "pycharm": {
     "name": "#%%\n"
    }
   }
  },
  {
   "cell_type": "code",
   "execution_count": 10,
   "outputs": [
    {
     "data": {
      "text/plain": "                 values_frequency values_state_frequency values_vibration  \\\ndata_time                                                                   \n14.04.2022 17:42                0                  норма      7,274764787   \n14.04.2022 17:43                0                  норма       7,27590385   \n14.04.2022 17:43                0                  норма      7,276366891   \n14.04.2022 17:44      14259,75952       аварийно высокое      7,261320221   \n14.04.2022 17:44      14259,75952       аварийно высокое      7,276366891   \n...                           ...                    ...              ...   \n03.06.2022 10:29              NaN                    NaN      24,30559369   \n03.06.2022 10:31              NaN                    NaN      24,85656221   \n03.06.2022 11:25              NaN                    NaN      13,07223977   \n03.06.2022 11:33              NaN                    NaN      7,217856471   \n03.06.2022 14:28              NaN                    NaN                0   \n\n                 values_state_vibration  \ndata_time                                \n14.04.2022 17:42                  норма  \n14.04.2022 17:43                  норма  \n14.04.2022 17:43                  норма  \n14.04.2022 17:44                  норма  \n14.04.2022 17:44                  норма  \n...                                 ...  \n03.06.2022 10:29                  норма  \n03.06.2022 10:31                  норма  \n03.06.2022 11:25                  норма  \n03.06.2022 11:33                  норма  \n03.06.2022 14:28                  норма  \n\n[45202 rows x 4 columns]",
      "text/html": "<div>\n<style scoped>\n    .dataframe tbody tr th:only-of-type {\n        vertical-align: middle;\n    }\n\n    .dataframe tbody tr th {\n        vertical-align: top;\n    }\n\n    .dataframe thead th {\n        text-align: right;\n    }\n</style>\n<table border=\"1\" class=\"dataframe\">\n  <thead>\n    <tr style=\"text-align: right;\">\n      <th></th>\n      <th>values_frequency</th>\n      <th>values_state_frequency</th>\n      <th>values_vibration</th>\n      <th>values_state_vibration</th>\n    </tr>\n    <tr>\n      <th>data_time</th>\n      <th></th>\n      <th></th>\n      <th></th>\n      <th></th>\n    </tr>\n  </thead>\n  <tbody>\n    <tr>\n      <th>14.04.2022 17:42</th>\n      <td>0</td>\n      <td>норма</td>\n      <td>7,274764787</td>\n      <td>норма</td>\n    </tr>\n    <tr>\n      <th>14.04.2022 17:43</th>\n      <td>0</td>\n      <td>норма</td>\n      <td>7,27590385</td>\n      <td>норма</td>\n    </tr>\n    <tr>\n      <th>14.04.2022 17:43</th>\n      <td>0</td>\n      <td>норма</td>\n      <td>7,276366891</td>\n      <td>норма</td>\n    </tr>\n    <tr>\n      <th>14.04.2022 17:44</th>\n      <td>14259,75952</td>\n      <td>аварийно высокое</td>\n      <td>7,261320221</td>\n      <td>норма</td>\n    </tr>\n    <tr>\n      <th>14.04.2022 17:44</th>\n      <td>14259,75952</td>\n      <td>аварийно высокое</td>\n      <td>7,276366891</td>\n      <td>норма</td>\n    </tr>\n    <tr>\n      <th>...</th>\n      <td>...</td>\n      <td>...</td>\n      <td>...</td>\n      <td>...</td>\n    </tr>\n    <tr>\n      <th>03.06.2022 10:29</th>\n      <td>NaN</td>\n      <td>NaN</td>\n      <td>24,30559369</td>\n      <td>норма</td>\n    </tr>\n    <tr>\n      <th>03.06.2022 10:31</th>\n      <td>NaN</td>\n      <td>NaN</td>\n      <td>24,85656221</td>\n      <td>норма</td>\n    </tr>\n    <tr>\n      <th>03.06.2022 11:25</th>\n      <td>NaN</td>\n      <td>NaN</td>\n      <td>13,07223977</td>\n      <td>норма</td>\n    </tr>\n    <tr>\n      <th>03.06.2022 11:33</th>\n      <td>NaN</td>\n      <td>NaN</td>\n      <td>7,217856471</td>\n      <td>норма</td>\n    </tr>\n    <tr>\n      <th>03.06.2022 14:28</th>\n      <td>NaN</td>\n      <td>NaN</td>\n      <td>0</td>\n      <td>норма</td>\n    </tr>\n  </tbody>\n</table>\n<p>45202 rows × 4 columns</p>\n</div>"
     },
     "execution_count": 10,
     "metadata": {},
     "output_type": "execute_result"
    }
   ],
   "source": [
    "data.head(100000)\n",
    "# Проверка даты"
   ],
   "metadata": {
    "collapsed": false,
    "pycharm": {
     "name": "#%%\n"
    }
   }
  },
  {
   "cell_type": "code",
   "execution_count": 11,
   "outputs": [
    {
     "data": {
      "text/plain": "                 values_frequency values_state_frequency values_vibration  \\\ndata_time                                                                   \n14.04.2022 17:42                0                  норма      7,274764787   \n14.04.2022 17:43                0                  норма       7,27590385   \n14.04.2022 17:43                0                  норма      7,276366891   \n14.04.2022 17:44      14259,75952       аварийно высокое      7,261320221   \n14.04.2022 17:44      14259,75952       аварийно высокое      7,276366891   \n...                           ...                    ...              ...   \n03.06.2022 10:29                0                      0      24,30559369   \n03.06.2022 10:31                0                      0      24,85656221   \n03.06.2022 11:25                0                      0      13,07223977   \n03.06.2022 11:33                0                      0      7,217856471   \n03.06.2022 14:28                0                      0                0   \n\n                 values_state_vibration  \ndata_time                                \n14.04.2022 17:42                  норма  \n14.04.2022 17:43                  норма  \n14.04.2022 17:43                  норма  \n14.04.2022 17:44                  норма  \n14.04.2022 17:44                  норма  \n...                                 ...  \n03.06.2022 10:29                  норма  \n03.06.2022 10:31                  норма  \n03.06.2022 11:25                  норма  \n03.06.2022 11:33                  норма  \n03.06.2022 14:28                  норма  \n\n[45202 rows x 4 columns]",
      "text/html": "<div>\n<style scoped>\n    .dataframe tbody tr th:only-of-type {\n        vertical-align: middle;\n    }\n\n    .dataframe tbody tr th {\n        vertical-align: top;\n    }\n\n    .dataframe thead th {\n        text-align: right;\n    }\n</style>\n<table border=\"1\" class=\"dataframe\">\n  <thead>\n    <tr style=\"text-align: right;\">\n      <th></th>\n      <th>values_frequency</th>\n      <th>values_state_frequency</th>\n      <th>values_vibration</th>\n      <th>values_state_vibration</th>\n    </tr>\n    <tr>\n      <th>data_time</th>\n      <th></th>\n      <th></th>\n      <th></th>\n      <th></th>\n    </tr>\n  </thead>\n  <tbody>\n    <tr>\n      <th>14.04.2022 17:42</th>\n      <td>0</td>\n      <td>норма</td>\n      <td>7,274764787</td>\n      <td>норма</td>\n    </tr>\n    <tr>\n      <th>14.04.2022 17:43</th>\n      <td>0</td>\n      <td>норма</td>\n      <td>7,27590385</td>\n      <td>норма</td>\n    </tr>\n    <tr>\n      <th>14.04.2022 17:43</th>\n      <td>0</td>\n      <td>норма</td>\n      <td>7,276366891</td>\n      <td>норма</td>\n    </tr>\n    <tr>\n      <th>14.04.2022 17:44</th>\n      <td>14259,75952</td>\n      <td>аварийно высокое</td>\n      <td>7,261320221</td>\n      <td>норма</td>\n    </tr>\n    <tr>\n      <th>14.04.2022 17:44</th>\n      <td>14259,75952</td>\n      <td>аварийно высокое</td>\n      <td>7,276366891</td>\n      <td>норма</td>\n    </tr>\n    <tr>\n      <th>...</th>\n      <td>...</td>\n      <td>...</td>\n      <td>...</td>\n      <td>...</td>\n    </tr>\n    <tr>\n      <th>03.06.2022 10:29</th>\n      <td>0</td>\n      <td>0</td>\n      <td>24,30559369</td>\n      <td>норма</td>\n    </tr>\n    <tr>\n      <th>03.06.2022 10:31</th>\n      <td>0</td>\n      <td>0</td>\n      <td>24,85656221</td>\n      <td>норма</td>\n    </tr>\n    <tr>\n      <th>03.06.2022 11:25</th>\n      <td>0</td>\n      <td>0</td>\n      <td>13,07223977</td>\n      <td>норма</td>\n    </tr>\n    <tr>\n      <th>03.06.2022 11:33</th>\n      <td>0</td>\n      <td>0</td>\n      <td>7,217856471</td>\n      <td>норма</td>\n    </tr>\n    <tr>\n      <th>03.06.2022 14:28</th>\n      <td>0</td>\n      <td>0</td>\n      <td>0</td>\n      <td>норма</td>\n    </tr>\n  </tbody>\n</table>\n<p>45202 rows × 4 columns</p>\n</div>"
     },
     "execution_count": 11,
     "metadata": {},
     "output_type": "execute_result"
    }
   ],
   "source": [
    "# Все значения nan = 0\n",
    "data = data.fillna('0')\n",
    "data.head(100000)"
   ],
   "metadata": {
    "collapsed": false,
    "pycharm": {
     "name": "#%%\n"
    }
   }
  },
  {
   "cell_type": "code",
   "execution_count": 12,
   "outputs": [],
   "source": [
    "#X = pd.get_dummies(X) # строковые переменные преобразуются в числовые автоматически + два столбца\n",
    "for i in range(data.shape[0]):\n",
    "    data.values_vibration[i] = float(data.values_vibration[i].replace(',', '.'))\n",
    "    data.values_frequency[i] = float(data.values_frequency[i].replace(',', '.'))"
   ],
   "metadata": {
    "collapsed": false,
    "pycharm": {
     "name": "#%%\n"
    }
   }
  },
  {
   "cell_type": "code",
   "execution_count": 13,
   "outputs": [
    {
     "data": {
      "text/plain": "                 values_frequency values_state_frequency values_vibration  \\\ndata_time                                                                   \n14.04.2022 17:42              0.0                  норма         7.274765   \n14.04.2022 17:43              0.0                  норма         7.275904   \n14.04.2022 17:43              0.0                  норма         7.276367   \n14.04.2022 17:44      14259.75952       аварийно высокое          7.26132   \n14.04.2022 17:44      14259.75952       аварийно высокое         7.276367   \n...                           ...                    ...              ...   \n03.06.2022 10:29              0.0                  норма        24.305594   \n03.06.2022 10:31              0.0                  норма        24.856562   \n03.06.2022 11:25              0.0                  норма         13.07224   \n03.06.2022 11:33              0.0                  норма         7.217856   \n03.06.2022 14:28              0.0                  норма              0.0   \n\n                 values_state_vibration  \ndata_time                                \n14.04.2022 17:42                  норма  \n14.04.2022 17:43                  норма  \n14.04.2022 17:43                  норма  \n14.04.2022 17:44                  норма  \n14.04.2022 17:44                  норма  \n...                                 ...  \n03.06.2022 10:29                  норма  \n03.06.2022 10:31                  норма  \n03.06.2022 11:25                  норма  \n03.06.2022 11:33                  норма  \n03.06.2022 14:28                  норма  \n\n[45202 rows x 4 columns]",
      "text/html": "<div>\n<style scoped>\n    .dataframe tbody tr th:only-of-type {\n        vertical-align: middle;\n    }\n\n    .dataframe tbody tr th {\n        vertical-align: top;\n    }\n\n    .dataframe thead th {\n        text-align: right;\n    }\n</style>\n<table border=\"1\" class=\"dataframe\">\n  <thead>\n    <tr style=\"text-align: right;\">\n      <th></th>\n      <th>values_frequency</th>\n      <th>values_state_frequency</th>\n      <th>values_vibration</th>\n      <th>values_state_vibration</th>\n    </tr>\n    <tr>\n      <th>data_time</th>\n      <th></th>\n      <th></th>\n      <th></th>\n      <th></th>\n    </tr>\n  </thead>\n  <tbody>\n    <tr>\n      <th>14.04.2022 17:42</th>\n      <td>0.0</td>\n      <td>норма</td>\n      <td>7.274765</td>\n      <td>норма</td>\n    </tr>\n    <tr>\n      <th>14.04.2022 17:43</th>\n      <td>0.0</td>\n      <td>норма</td>\n      <td>7.275904</td>\n      <td>норма</td>\n    </tr>\n    <tr>\n      <th>14.04.2022 17:43</th>\n      <td>0.0</td>\n      <td>норма</td>\n      <td>7.276367</td>\n      <td>норма</td>\n    </tr>\n    <tr>\n      <th>14.04.2022 17:44</th>\n      <td>14259.75952</td>\n      <td>аварийно высокое</td>\n      <td>7.26132</td>\n      <td>норма</td>\n    </tr>\n    <tr>\n      <th>14.04.2022 17:44</th>\n      <td>14259.75952</td>\n      <td>аварийно высокое</td>\n      <td>7.276367</td>\n      <td>норма</td>\n    </tr>\n    <tr>\n      <th>...</th>\n      <td>...</td>\n      <td>...</td>\n      <td>...</td>\n      <td>...</td>\n    </tr>\n    <tr>\n      <th>03.06.2022 10:29</th>\n      <td>0.0</td>\n      <td>норма</td>\n      <td>24.305594</td>\n      <td>норма</td>\n    </tr>\n    <tr>\n      <th>03.06.2022 10:31</th>\n      <td>0.0</td>\n      <td>норма</td>\n      <td>24.856562</td>\n      <td>норма</td>\n    </tr>\n    <tr>\n      <th>03.06.2022 11:25</th>\n      <td>0.0</td>\n      <td>норма</td>\n      <td>13.07224</td>\n      <td>норма</td>\n    </tr>\n    <tr>\n      <th>03.06.2022 11:33</th>\n      <td>0.0</td>\n      <td>норма</td>\n      <td>7.217856</td>\n      <td>норма</td>\n    </tr>\n    <tr>\n      <th>03.06.2022 14:28</th>\n      <td>0.0</td>\n      <td>норма</td>\n      <td>0.0</td>\n      <td>норма</td>\n    </tr>\n  </tbody>\n</table>\n<p>45202 rows × 4 columns</p>\n</div>"
     },
     "execution_count": 13,
     "metadata": {},
     "output_type": "execute_result"
    }
   ],
   "source": [
    "# битые данные, но предположительно нормальные\n",
    "data.loc[(data.values_state_frequency == '0'), 'values_state_frequency'] = 'норма'\n",
    "data.loc[(data.values_vibration == '0'), 'values_vibration'] = 'норма'\n",
    "data.head(100000)"
   ],
   "metadata": {
    "collapsed": false,
    "pycharm": {
     "name": "#%%\n"
    }
   }
  },
  {
   "cell_type": "code",
   "execution_count": 14,
   "outputs": [],
   "source": [
    "# уберем выбросы\n",
    "data.loc[(data.values_vibration > 50), 'values_vibration'] = 0\n",
    "# немного сэмитируем данные\n",
    "data.loc[(data.values_vibration > 20), 'values_vibration'] = 0"
   ],
   "metadata": {
    "collapsed": false,
    "pycharm": {
     "name": "#%%\n"
    }
   }
  },
  {
   "cell_type": "code",
   "execution_count": 15,
   "outputs": [
    {
     "data": {
      "text/plain": "<AxesSubplot:xlabel='data_time'>"
     },
     "execution_count": 15,
     "metadata": {},
     "output_type": "execute_result"
    },
    {
     "data": {
      "text/plain": "<Figure size 432x288 with 1 Axes>",
      "image/png": "[encoded data removed]"
     },
     "metadata": {
      "needs_background": "light"
     },
     "output_type": "display_data"
    }
   ],
   "source": [
    "data.plot(kind='line')   ############################"
   ],
   "metadata": {
    "collapsed": false,
    "pycharm": {
     "name": "#%%\n"
    }
   }
  },
  {
   "cell_type": "code",
   "execution_count": 16,
   "outputs": [],
   "source": [
    "# Создадим дерево решений и обучим его с одним классификатором\n",
    "clf_test = tree.DecisionTreeClassifier(criterion='entropy', max_depth=10) # Дерево решений\n",
    "X = data[['values_frequency', 'values_vibration']] # данные для обучения\n",
    "#y = data[['values_state_frequency', 'values_state_vibration']] # Данные ответ\n",
    "y = data[['values_state_frequency']] # Данные ответ"
   ],
   "metadata": {
    "collapsed": false,
    "pycharm": {
     "name": "#%%\n"
    }
   }
  },
  {
   "cell_type": "code",
   "execution_count": 17,
   "outputs": [
    {
     "data": {
      "text/plain": "DecisionTreeClassifier(criterion='entropy', max_depth=10)",
      "text/html": "<style>#sk-container-id-1 {color: black;background-color: white;}#sk-container-id-1 pre{padding: 0;}#sk-container-id-1 div.sk-toggleable {background-color: white;}#sk-container-id-1 label.sk-toggleable__label {cursor: pointer;display: block;width: 100%;margin-bottom: 0;padding: 0.3em;box-sizing: border-box;text-align: center;}#sk-container-id-1 label.sk-toggleable__label-arrow:before {content: \"▸\";float: left;margin-right: 0.25em;color: #696969;}#sk-container-id-1 label.sk-toggleable__label-arrow:hover:before {color: black;}#sk-container-id-1 div.sk-estimator:hover label.sk-toggleable__label-arrow:before {color: black;}#sk-container-id-1 div.sk-toggleable__content {max-height: 0;max-width: 0;overflow: hidden;text-align: left;background-color: #f0f8ff;}#sk-container-id-1 div.sk-toggleable__content pre {margin: 0.2em;color: black;border-radius: 0.25em;background-color: #f0f8ff;}#sk-container-id-1 input.sk-toggleable__control:checked~div.sk-toggleable__content {max-height: 200px;max-width: 100%;overflow: auto;}#sk-container-id-1 input.sk-toggleable__control:checked~label.sk-toggleable__label-arrow:before {content: \"▾\";}#sk-container-id-1 div.sk-estimator input.sk-toggleable__control:checked~label.sk-toggleable__label {background-color: #d4ebff;}#sk-container-id-1 div.sk-label input.sk-toggleable__control:checked~label.sk-toggleable__label {background-color: #d4ebff;}#sk-container-id-1 input.sk-hidden--visually {border: 0;clip: rect(1px 1px 1px 1px);clip: rect(1px, 1px, 1px, 1px);height: 1px;margin: -1px;overflow: hidden;padding: 0;position: absolute;width: 1px;}#sk-container-id-1 div.sk-estimator {font-family: monospace;background-color: #f0f8ff;border: 1px dotted black;border-radius: 0.25em;box-sizing: border-box;margin-bottom: 0.5em;}#sk-container-id-1 div.sk-estimator:hover {background-color: #d4ebff;}#sk-container-id-1 div.sk-parallel-item::after {content: \"\";width: 100%;border-bottom: 1px solid gray;flex-grow: 1;}#sk-container-id-1 div.sk-label:hover label.sk-toggleable__label {background-color: #d4ebff;}#sk-container-id-1 div.sk-serial::before {content: \"\";position: absolute;border-left: 1px solid gray;box-sizing: border-box;top: 0;bottom: 0;left: 50%;z-index: 0;}#sk-container-id-1 div.sk-serial {display: flex;flex-direction: column;align-items: center;background-color: white;padding-right: 0.2em;padding-left: 0.2em;position: relative;}#sk-container-id-1 div.sk-item {position: relative;z-index: 1;}#sk-container-id-1 div.sk-parallel {display: flex;align-items: stretch;justify-content: center;background-color: white;position: relative;}#sk-container-id-1 div.sk-item::before, #sk-container-id-1 div.sk-parallel-item::before {content: \"\";position: absolute;border-left: 1px solid gray;box-sizing: border-box;top: 0;bottom: 0;left: 50%;z-index: -1;}#sk-container-id-1 div.sk-parallel-item {display: flex;flex-direction: column;z-index: 1;position: relative;background-color: white;}#sk-container-id-1 div.sk-parallel-item:first-child::after {align-self: flex-end;width: 50%;}#sk-container-id-1 div.sk-parallel-item:last-child::after {align-self: flex-start;width: 50%;}#sk-container-id-1 div.sk-parallel-item:only-child::after {width: 0;}#sk-container-id-1 div.sk-dashed-wrapped {border: 1px dashed gray;margin: 0 0.4em 0.5em 0.4em;box-sizing: border-box;padding-bottom: 0.4em;background-color: white;}#sk-container-id-1 div.sk-label label {font-family: monospace;font-weight: bold;display: inline-block;line-height: 1.2em;}#sk-container-id-1 div.sk-label-container {text-align: center;}#sk-container-id-1 div.sk-container {/* jupyter's `normalize.less` sets `[hidden] { display: none; }` but bootstrap.min.css set `[hidden] { display: none !important; }` so we also need the `!important` here to be able to override the default hidden behavior on the sphinx rendered scikit-learn.org. See: https://github.com/scikit-learn/scikit-learn/issues/21755 */display: inline-block !important;position: relative;}#sk-container-id-1 div.sk-text-repr-fallback {display: none;}</style><div id=\"sk-container-id-1\" class=\"sk-top-container\"><div class=\"sk-text-repr-fallback\"><pre>DecisionTreeClassifier(criterion=&#x27;entropy&#x27;, max_depth=10)</pre><b>In a Jupyter environment, please rerun this cell to show the HTML representation or trust the notebook. <br />On GitHub, the HTML representation is unable to render, please try loading this page with nbviewer.org.</b></div><div class=\"sk-container\" hidden><div class=\"sk-item\"><div class=\"sk-estimator sk-toggleable\"><input class=\"sk-toggleable__control sk-hidden--visually\" id=\"sk-estimator-id-1\" type=\"checkbox\" checked><label for=\"sk-estimator-id-1\" class=\"sk-toggleable__label sk-toggleable__label-arrow\">DecisionTreeClassifier</label><div class=\"sk-toggleable__content\"><pre>DecisionTreeClassifier(criterion=&#x27;entropy&#x27;, max_depth=10)</pre></div></div></div></div></div>"
     },
     "execution_count": 17,
     "metadata": {},
     "output_type": "execute_result"
    }
   ],
   "source": [
    "clf_test.fit(X, y)"
   ],
   "metadata": {
    "collapsed": false,
    "pycharm": {
     "name": "#%%\n"
    }
   }
  },
  {
   "cell_type": "code",
   "execution_count": 18,
   "outputs": [
    {
     "data": {
      "text/plain": "<IPython.core.display.SVG object>",
      "image/svg+xml": "<svg xmlns=\"http://www.w3.org/2000/svg\" xmlns:xlink=\"http://www.w3.org/1999/xlink\" width=\"334pt\" height=\"195pt\" viewBox=\"0.00 0.00 333.50 195.00\">\n<g id=\"graph0\" class=\"graph\" transform=\"scale(1 1) rotate(0) translate(4 191)\">\n<title>Tree</title>\n<polygon fill=\"white\" stroke=\"transparent\" points=\"-4,4 -4,-191 329.5,-191 329.5,4 -4,4\"/>\n<!-- 0 -->\n<g id=\"node1\" class=\"node\">\n<title>0</title>\n<polygon fill=\"#7dbfee\" stroke=\"black\" points=\"282,-187 72,-187 72,-104 282,-104 282,-187\"/>\n<text text-anchor=\"middle\" x=\"177\" y=\"-171.8\" font-family=\"Helvetica,sans-Serif\" font-size=\"14.00\">values_frequency &lt;= 10084.309</text>\n<text text-anchor=\"middle\" x=\"177\" y=\"-156.8\" font-family=\"Helvetica,sans-Serif\" font-size=\"14.00\">entropy = 0.82</text>\n<text text-anchor=\"middle\" x=\"177\" y=\"-141.8\" font-family=\"Helvetica,sans-Serif\" font-size=\"14.00\">samples = 45202</text>\n<text text-anchor=\"middle\" x=\"177\" y=\"-126.8\" font-family=\"Helvetica,sans-Serif\" font-size=\"14.00\">value = [11550, 33652]</text>\n<text text-anchor=\"middle\" x=\"177\" y=\"-111.8\" font-family=\"Helvetica,sans-Serif\" font-size=\"14.00\">class = аварийно высокое</text>\n</g>\n<!-- 1 -->\n<g id=\"node2\" class=\"node\">\n<title>1</title>\n<polygon fill=\"#399de5\" stroke=\"black\" points=\"182,-68 0,-68 0,0 182,0 182,-68\"/>\n<text text-anchor=\"middle\" x=\"91\" y=\"-52.8\" font-family=\"Helvetica,sans-Serif\" font-size=\"14.00\">entropy = 0.0</text>\n<text text-anchor=\"middle\" x=\"91\" y=\"-37.8\" font-family=\"Helvetica,sans-Serif\" font-size=\"14.00\">samples = 33652</text>\n<text text-anchor=\"middle\" x=\"91\" y=\"-22.8\" font-family=\"Helvetica,sans-Serif\" font-size=\"14.00\">value = [0, 33652]</text>\n<text text-anchor=\"middle\" x=\"91\" y=\"-7.8\" font-family=\"Helvetica,sans-Serif\" font-size=\"14.00\">class = аварийно высокое</text>\n</g>\n<!-- 0&#45;&gt;1 -->\n<g id=\"edge1\" class=\"edge\">\n<title>0-&gt;1</title>\n<path fill=\"none\" stroke=\"black\" d=\"M144.98,-103.73C137.96,-94.79 130.52,-85.32 123.48,-76.36\"/>\n<polygon fill=\"black\" stroke=\"black\" points=\"126.08,-74 117.15,-68.3 120.58,-78.33 126.08,-74\"/>\n<text text-anchor=\"middle\" x=\"114.17\" y=\"-89.42\" font-family=\"Helvetica,sans-Serif\" font-size=\"14.00\">True</text>\n</g>\n<!-- 2 -->\n<g id=\"node3\" class=\"node\">\n<title>2</title>\n<polygon fill=\"#e58139\" stroke=\"black\" points=\"325.5,-68 200.5,-68 200.5,0 325.5,0 325.5,-68\"/>\n<text text-anchor=\"middle\" x=\"263\" y=\"-52.8\" font-family=\"Helvetica,sans-Serif\" font-size=\"14.00\">entropy = 0.0</text>\n<text text-anchor=\"middle\" x=\"263\" y=\"-37.8\" font-family=\"Helvetica,sans-Serif\" font-size=\"14.00\">samples = 11550</text>\n<text text-anchor=\"middle\" x=\"263\" y=\"-22.8\" font-family=\"Helvetica,sans-Serif\" font-size=\"14.00\">value = [11550, 0]</text>\n<text text-anchor=\"middle\" x=\"263\" y=\"-7.8\" font-family=\"Helvetica,sans-Serif\" font-size=\"14.00\">class = норма</text>\n</g>\n<!-- 0&#45;&gt;2 -->\n<g id=\"edge2\" class=\"edge\">\n<title>0-&gt;2</title>\n<path fill=\"none\" stroke=\"black\" d=\"M209.02,-103.73C216.04,-94.79 223.48,-85.32 230.52,-76.36\"/>\n<polygon fill=\"black\" stroke=\"black\" points=\"233.42,-78.33 236.85,-68.3 227.92,-74 233.42,-78.33\"/>\n<text text-anchor=\"middle\" x=\"239.83\" y=\"-89.42\" font-family=\"Helvetica,sans-Serif\" font-size=\"14.00\">False</text>\n</g>\n</g>\n</svg>"
     },
     "metadata": {},
     "output_type": "display_data"
    }
   ],
   "source": [
    "graph = Source(tree.export_graphviz(clf_test, out_file=None\n",
    "                                    , feature_names=list(X), class_names=['норма', 'аварийно высокое']\n",
    "                                    , filled=True))\n",
    "display(SVG(graph.pipe(format='svg')))   # Переобученная модель"
   ],
   "metadata": {
    "collapsed": false,
    "pycharm": {
     "name": "#%%\n"
    }
   }
  },
  {
   "cell_type": "code",
   "execution_count": 19,
   "outputs": [
    {
     "data": {
      "text/plain": "1.0"
     },
     "execution_count": 19,
     "metadata": {},
     "output_type": "execute_result"
    }
   ],
   "source": [
    "# Проверим работу классификатора на исходных данных\n",
    "clf_test.score(X, y)"
   ],
   "metadata": {
    "collapsed": false,
    "pycharm": {
     "name": "#%%\n"
    }
   }
  },
  {
   "cell_type": "code",
   "execution_count": 20,
   "outputs": [
    {
     "name": "stderr",
     "output_type": "stream",
     "text": [
      "/Users/nikolaibabuhin/PycharmProjects/sirius_data/venv/lib/python3.8/site-packages/sklearn/base.py:450: UserWarning: X does not have valid feature names, but DecisionTreeClassifier was fitted with feature names\n",
      "  warnings.warn(\n"
     ]
    },
    {
     "data": {
      "text/plain": "array(['аварийно высокое'], dtype=object)"
     },
     "execution_count": 20,
     "metadata": {},
     "output_type": "execute_result"
    }
   ],
   "source": [
    "clf_test.predict([[14259, 7]])"
   ],
   "metadata": {
    "collapsed": false,
    "pycharm": {
     "name": "#%%\n"
    }
   }
  },
  {
   "cell_type": "code",
   "execution_count": 21,
   "outputs": [],
   "source": [
    "###########################################################\n",
    "\n",
    "from sklearn.model_selection import cross_val_score\n",
    "\n",
    "# отбираем данные для обучения\n",
    "X_train, X_test, y_train, y_test = train_test_split(X, y, test_size=0.33, random_state=42)"
   ],
   "metadata": {
    "collapsed": false,
    "pycharm": {
     "name": "#%%\n"
    }
   }
  },
  {
   "cell_type": "code",
   "execution_count": 22,
   "outputs": [
    {
     "data": {
      "text/plain": "DecisionTreeClassifier(criterion='entropy', max_depth=10)",
      "text/html": "<style>#sk-container-id-2 {color: black;background-color: white;}#sk-container-id-2 pre{padding: 0;}#sk-container-id-2 div.sk-toggleable {background-color: white;}#sk-container-id-2 label.sk-toggleable__label {cursor: pointer;display: block;width: 100%;margin-bottom: 0;padding: 0.3em;box-sizing: border-box;text-align: center;}#sk-container-id-2 label.sk-toggleable__label-arrow:before {content: \"▸\";float: left;margin-right: 0.25em;color: #696969;}#sk-container-id-2 label.sk-toggleable__label-arrow:hover:before {color: black;}#sk-container-id-2 div.sk-estimator:hover label.sk-toggleable__label-arrow:before {color: black;}#sk-container-id-2 div.sk-toggleable__content {max-height: 0;max-width: 0;overflow: hidden;text-align: left;background-color: #f0f8ff;}#sk-container-id-2 div.sk-toggleable__content pre {margin: 0.2em;color: black;border-radius: 0.25em;background-color: #f0f8ff;}#sk-container-id-2 input.sk-toggleable__control:checked~div.sk-toggleable__content {max-height: 200px;max-width: 100%;overflow: auto;}#sk-container-id-2 input.sk-toggleable__control:checked~label.sk-toggleable__label-arrow:before {content: \"▾\";}#sk-container-id-2 div.sk-estimator input.sk-toggleable__control:checked~label.sk-toggleable__label {background-color: #d4ebff;}#sk-container-id-2 div.sk-label input.sk-toggleable__control:checked~label.sk-toggleable__label {background-color: #d4ebff;}#sk-container-id-2 input.sk-hidden--visually {border: 0;clip: rect(1px 1px 1px 1px);clip: rect(1px, 1px, 1px, 1px);height: 1px;margin: -1px;overflow: hidden;padding: 0;position: absolute;width: 1px;}#sk-container-id-2 div.sk-estimator {font-family: monospace;background-color: #f0f8ff;border: 1px dotted black;border-radius: 0.25em;box-sizing: border-box;margin-bottom: 0.5em;}#sk-container-id-2 div.sk-estimator:hover {background-color: #d4ebff;}#sk-container-id-2 div.sk-parallel-item::after {content: \"\";width: 100%;border-bottom: 1px solid gray;flex-grow: 1;}#sk-container-id-2 div.sk-label:hover label.sk-toggleable__label {background-color: #d4ebff;}#sk-container-id-2 div.sk-serial::before {content: \"\";position: absolute;border-left: 1px solid gray;box-sizing: border-box;top: 0;bottom: 0;left: 50%;z-index: 0;}#sk-container-id-2 div.sk-serial {display: flex;flex-direction: column;align-items: center;background-color: white;padding-right: 0.2em;padding-left: 0.2em;position: relative;}#sk-container-id-2 div.sk-item {position: relative;z-index: 1;}#sk-container-id-2 div.sk-parallel {display: flex;align-items: stretch;justify-content: center;background-color: white;position: relative;}#sk-container-id-2 div.sk-item::before, #sk-container-id-2 div.sk-parallel-item::before {content: \"\";position: absolute;border-left: 1px solid gray;box-sizing: border-box;top: 0;bottom: 0;left: 50%;z-index: -1;}#sk-container-id-2 div.sk-parallel-item {display: flex;flex-direction: column;z-index: 1;position: relative;background-color: white;}#sk-container-id-2 div.sk-parallel-item:first-child::after {align-self: flex-end;width: 50%;}#sk-container-id-2 div.sk-parallel-item:last-child::after {align-self: flex-start;width: 50%;}#sk-container-id-2 div.sk-parallel-item:only-child::after {width: 0;}#sk-container-id-2 div.sk-dashed-wrapped {border: 1px dashed gray;margin: 0 0.4em 0.5em 0.4em;box-sizing: border-box;padding-bottom: 0.4em;background-color: white;}#sk-container-id-2 div.sk-label label {font-family: monospace;font-weight: bold;display: inline-block;line-height: 1.2em;}#sk-container-id-2 div.sk-label-container {text-align: center;}#sk-container-id-2 div.sk-container {/* jupyter's `normalize.less` sets `[hidden] { display: none; }` but bootstrap.min.css set `[hidden] { display: none !important; }` so we also need the `!important` here to be able to override the default hidden behavior on the sphinx rendered scikit-learn.org. See: https://github.com/scikit-learn/scikit-learn/issues/21755 */display: inline-block !important;position: relative;}#sk-container-id-2 div.sk-text-repr-fallback {display: none;}</style><div id=\"sk-container-id-2\" class=\"sk-top-container\"><div class=\"sk-text-repr-fallback\"><pre>DecisionTreeClassifier(criterion=&#x27;entropy&#x27;, max_depth=10)</pre><b>In a Jupyter environment, please rerun this cell to show the HTML representation or trust the notebook. <br />On GitHub, the HTML representation is unable to render, please try loading this page with nbviewer.org.</b></div><div class=\"sk-container\" hidden><div class=\"sk-item\"><div class=\"sk-estimator sk-toggleable\"><input class=\"sk-toggleable__control sk-hidden--visually\" id=\"sk-estimator-id-2\" type=\"checkbox\" checked><label for=\"sk-estimator-id-2\" class=\"sk-toggleable__label sk-toggleable__label-arrow\">DecisionTreeClassifier</label><div class=\"sk-toggleable__content\"><pre>DecisionTreeClassifier(criterion=&#x27;entropy&#x27;, max_depth=10)</pre></div></div></div></div></div>"
     },
     "execution_count": 22,
     "metadata": {},
     "output_type": "execute_result"
    }
   ],
   "source": [
    "# Создадим дерево решений и обучим его на нашей выборке\n",
    "clf = tree.DecisionTreeClassifier(criterion='entropy', max_depth=10) # Дерево решений\n",
    "clf.fit(X_train, y_train)"
   ],
   "metadata": {
    "collapsed": false,
    "pycharm": {
     "name": "#%%\n"
    }
   }
  },
  {
   "cell_type": "code",
   "execution_count": 23,
   "outputs": [
    {
     "data": {
      "text/plain": "1.0"
     },
     "execution_count": 23,
     "metadata": {},
     "output_type": "execute_result"
    }
   ],
   "source": [
    "clf.score(X_train, y_train)"
   ],
   "metadata": {
    "collapsed": false,
    "pycharm": {
     "name": "#%%\n"
    }
   }
  },
  {
   "cell_type": "code",
   "execution_count": 24,
   "outputs": [
    {
     "data": {
      "text/plain": "1.0"
     },
     "execution_count": 24,
     "metadata": {},
     "output_type": "execute_result"
    }
   ],
   "source": [
    "clf.score(X_test, y_test)"
   ],
   "metadata": {
    "collapsed": false,
    "pycharm": {
     "name": "#%%\n"
    }
   }
  },
  {
   "cell_type": "code",
   "execution_count": 25,
   "outputs": [
    {
     "data": {
      "text/plain": "1.0"
     },
     "execution_count": 25,
     "metadata": {},
     "output_type": "execute_result"
    }
   ],
   "source": [
    "# все точки теперь используются и для теста и для обучения\n",
    "# cv=10 деление модели обучает модель на 9/10 части и проверяет ее на 1/10 части\n",
    "cross_val_score(clf, X_train, y_train, cv=3).mean()"
   ],
   "metadata": {
    "collapsed": false,
    "pycharm": {
     "name": "#%%\n"
    }
   }
  },
  {
   "cell_type": "code",
   "execution_count": 26,
   "outputs": [],
   "source": [
    "# насколько меняем глубину\n",
    "max_depth_values = range(1,100)"
   ],
   "metadata": {
    "collapsed": false,
    "pycharm": {
     "name": "#%%\n"
    }
   }
  },
  {
   "cell_type": "code",
   "execution_count": 27,
   "outputs": [],
   "source": [
    "# создаем дата фрейм для загрузки туда результатов обучения\n",
    "score_data = pd.DataFrame()"
   ],
   "metadata": {
    "collapsed": false,
    "pycharm": {
     "name": "#%%\n"
    }
   }
  },
  {
   "cell_type": "code",
   "execution_count": 28,
   "outputs": [
    {
     "name": "stderr",
     "output_type": "stream",
     "text": [
      "/var/folders/8r/vf7kv7hd5f3bmfzvcl6nfqgm0000gq/T/ipykernel_23374/1673897241.py:13: FutureWarning: The frame.append method is deprecated and will be removed from pandas in a future version. Use pandas.concat instead.\n",
      "  score_data = score_data.append(temp_score_data)\n",
      "/var/folders/8r/vf7kv7hd5f3bmfzvcl6nfqgm0000gq/T/ipykernel_23374/1673897241.py:13: FutureWarning: The frame.append method is deprecated and will be removed from pandas in a future version. Use pandas.concat instead.\n",
      "  score_data = score_data.append(temp_score_data)\n",
      "/var/folders/8r/vf7kv7hd5f3bmfzvcl6nfqgm0000gq/T/ipykernel_23374/1673897241.py:13: FutureWarning: The frame.append method is deprecated and will be removed from pandas in a future version. Use pandas.concat instead.\n",
      "  score_data = score_data.append(temp_score_data)\n",
      "/var/folders/8r/vf7kv7hd5f3bmfzvcl6nfqgm0000gq/T/ipykernel_23374/1673897241.py:13: FutureWarning: The frame.append method is deprecated and will be removed from pandas in a future version. Use pandas.concat instead.\n",
      "  score_data = score_data.append(temp_score_data)\n",
      "/var/folders/8r/vf7kv7hd5f3bmfzvcl6nfqgm0000gq/T/ipykernel_23374/1673897241.py:13: FutureWarning: The frame.append method is deprecated and will be removed from pandas in a future version. Use pandas.concat instead.\n",
      "  score_data = score_data.append(temp_score_data)\n",
      "/var/folders/8r/vf7kv7hd5f3bmfzvcl6nfqgm0000gq/T/ipykernel_23374/1673897241.py:13: FutureWarning: The frame.append method is deprecated and will be removed from pandas in a future version. Use pandas.concat instead.\n",
      "  score_data = score_data.append(temp_score_data)\n",
      "/var/folders/8r/vf7kv7hd5f3bmfzvcl6nfqgm0000gq/T/ipykernel_23374/1673897241.py:13: FutureWarning: The frame.append method is deprecated and will be removed from pandas in a future version. Use pandas.concat instead.\n",
      "  score_data = score_data.append(temp_score_data)\n",
      "/var/folders/8r/vf7kv7hd5f3bmfzvcl6nfqgm0000gq/T/ipykernel_23374/1673897241.py:13: FutureWarning: The frame.append method is deprecated and will be removed from pandas in a future version. Use pandas.concat instead.\n",
      "  score_data = score_data.append(temp_score_data)\n",
      "/var/folders/8r/vf7kv7hd5f3bmfzvcl6nfqgm0000gq/T/ipykernel_23374/1673897241.py:13: FutureWarning: The frame.append method is deprecated and will be removed from pandas in a future version. Use pandas.concat instead.\n",
      "  score_data = score_data.append(temp_score_data)\n",
      "/var/folders/8r/vf7kv7hd5f3bmfzvcl6nfqgm0000gq/T/ipykernel_23374/1673897241.py:13: FutureWarning: The frame.append method is deprecated and will be removed from pandas in a future version. Use pandas.concat instead.\n",
      "  score_data = score_data.append(temp_score_data)\n",
      "/var/folders/8r/vf7kv7hd5f3bmfzvcl6nfqgm0000gq/T/ipykernel_23374/1673897241.py:13: FutureWarning: The frame.append method is deprecated and will be removed from pandas in a future version. Use pandas.concat instead.\n",
      "  score_data = score_data.append(temp_score_data)\n",
      "/var/folders/8r/vf7kv7hd5f3bmfzvcl6nfqgm0000gq/T/ipykernel_23374/1673897241.py:13: FutureWarning: The frame.append method is deprecated and will be removed from pandas in a future version. Use pandas.concat instead.\n",
      "  score_data = score_data.append(temp_score_data)\n",
      "/var/folders/8r/vf7kv7hd5f3bmfzvcl6nfqgm0000gq/T/ipykernel_23374/1673897241.py:13: FutureWarning: The frame.append method is deprecated and will be removed from pandas in a future version. Use pandas.concat instead.\n",
      "  score_data = score_data.append(temp_score_data)\n",
      "/var/folders/8r/vf7kv7hd5f3bmfzvcl6nfqgm0000gq/T/ipykernel_23374/1673897241.py:13: FutureWarning: The frame.append method is deprecated and will be removed from pandas in a future version. Use pandas.concat instead.\n",
      "  score_data = score_data.append(temp_score_data)\n",
      "/var/folders/8r/vf7kv7hd5f3bmfzvcl6nfqgm0000gq/T/ipykernel_23374/1673897241.py:13: FutureWarning: The frame.append method is deprecated and will be removed from pandas in a future version. Use pandas.concat instead.\n",
      "  score_data = score_data.append(temp_score_data)\n",
      "/var/folders/8r/vf7kv7hd5f3bmfzvcl6nfqgm0000gq/T/ipykernel_23374/1673897241.py:13: FutureWarning: The frame.append method is deprecated and will be removed from pandas in a future version. Use pandas.concat instead.\n",
      "  score_data = score_data.append(temp_score_data)\n",
      "/var/folders/8r/vf7kv7hd5f3bmfzvcl6nfqgm0000gq/T/ipykernel_23374/1673897241.py:13: FutureWarning: The frame.append method is deprecated and will be removed from pandas in a future version. Use pandas.concat instead.\n",
      "  score_data = score_data.append(temp_score_data)\n",
      "/var/folders/8r/vf7kv7hd5f3bmfzvcl6nfqgm0000gq/T/ipykernel_23374/1673897241.py:13: FutureWarning: The frame.append method is deprecated and will be removed from pandas in a future version. Use pandas.concat instead.\n",
      "  score_data = score_data.append(temp_score_data)\n",
      "/var/folders/8r/vf7kv7hd5f3bmfzvcl6nfqgm0000gq/T/ipykernel_23374/1673897241.py:13: FutureWarning: The frame.append method is deprecated and will be removed from pandas in a future version. Use pandas.concat instead.\n",
      "  score_data = score_data.append(temp_score_data)\n",
      "/var/folders/8r/vf7kv7hd5f3bmfzvcl6nfqgm0000gq/T/ipykernel_23374/1673897241.py:13: FutureWarning: The frame.append method is deprecated and will be removed from pandas in a future version. Use pandas.concat instead.\n",
      "  score_data = score_data.append(temp_score_data)\n",
      "/var/folders/8r/vf7kv7hd5f3bmfzvcl6nfqgm0000gq/T/ipykernel_23374/1673897241.py:13: FutureWarning: The frame.append method is deprecated and will be removed from pandas in a future version. Use pandas.concat instead.\n",
      "  score_data = score_data.append(temp_score_data)\n",
      "/var/folders/8r/vf7kv7hd5f3bmfzvcl6nfqgm0000gq/T/ipykernel_23374/1673897241.py:13: FutureWarning: The frame.append method is deprecated and will be removed from pandas in a future version. Use pandas.concat instead.\n",
      "  score_data = score_data.append(temp_score_data)\n",
      "/var/folders/8r/vf7kv7hd5f3bmfzvcl6nfqgm0000gq/T/ipykernel_23374/1673897241.py:13: FutureWarning: The frame.append method is deprecated and will be removed from pandas in a future version. Use pandas.concat instead.\n",
      "  score_data = score_data.append(temp_score_data)\n",
      "/var/folders/8r/vf7kv7hd5f3bmfzvcl6nfqgm0000gq/T/ipykernel_23374/1673897241.py:13: FutureWarning: The frame.append method is deprecated and will be removed from pandas in a future version. Use pandas.concat instead.\n",
      "  score_data = score_data.append(temp_score_data)\n",
      "/var/folders/8r/vf7kv7hd5f3bmfzvcl6nfqgm0000gq/T/ipykernel_23374/1673897241.py:13: FutureWarning: The frame.append method is deprecated and will be removed from pandas in a future version. Use pandas.concat instead.\n",
      "  score_data = score_data.append(temp_score_data)\n",
      "/var/folders/8r/vf7kv7hd5f3bmfzvcl6nfqgm0000gq/T/ipykernel_23374/1673897241.py:13: FutureWarning: The frame.append method is deprecated and will be removed from pandas in a future version. Use pandas.concat instead.\n",
      "  score_data = score_data.append(temp_score_data)\n",
      "/var/folders/8r/vf7kv7hd5f3bmfzvcl6nfqgm0000gq/T/ipykernel_23374/1673897241.py:13: FutureWarning: The frame.append method is deprecated and will be removed from pandas in a future version. Use pandas.concat instead.\n",
      "  score_data = score_data.append(temp_score_data)\n",
      "/var/folders/8r/vf7kv7hd5f3bmfzvcl6nfqgm0000gq/T/ipykernel_23374/1673897241.py:13: FutureWarning: The frame.append method is deprecated and will be removed from pandas in a future version. Use pandas.concat instead.\n",
      "  score_data = score_data.append(temp_score_data)\n",
      "/var/folders/8r/vf7kv7hd5f3bmfzvcl6nfqgm0000gq/T/ipykernel_23374/1673897241.py:13: FutureWarning: The frame.append method is deprecated and will be removed from pandas in a future version. Use pandas.concat instead.\n",
      "  score_data = score_data.append(temp_score_data)\n",
      "/var/folders/8r/vf7kv7hd5f3bmfzvcl6nfqgm0000gq/T/ipykernel_23374/1673897241.py:13: FutureWarning: The frame.append method is deprecated and will be removed from pandas in a future version. Use pandas.concat instead.\n",
      "  score_data = score_data.append(temp_score_data)\n",
      "/var/folders/8r/vf7kv7hd5f3bmfzvcl6nfqgm0000gq/T/ipykernel_23374/1673897241.py:13: FutureWarning: The frame.append method is deprecated and will be removed from pandas in a future version. Use pandas.concat instead.\n",
      "  score_data = score_data.append(temp_score_data)\n",
      "/var/folders/8r/vf7kv7hd5f3bmfzvcl6nfqgm0000gq/T/ipykernel_23374/1673897241.py:13: FutureWarning: The frame.append method is deprecated and will be removed from pandas in a future version. Use pandas.concat instead.\n",
      "  score_data = score_data.append(temp_score_data)\n",
      "/var/folders/8r/vf7kv7hd5f3bmfzvcl6nfqgm0000gq/T/ipykernel_23374/1673897241.py:13: FutureWarning: The frame.append method is deprecated and will be removed from pandas in a future version. Use pandas.concat instead.\n",
      "  score_data = score_data.append(temp_score_data)\n",
      "/var/folders/8r/vf7kv7hd5f3bmfzvcl6nfqgm0000gq/T/ipykernel_23374/1673897241.py:13: FutureWarning: The frame.append method is deprecated and will be removed from pandas in a future version. Use pandas.concat instead.\n",
      "  score_data = score_data.append(temp_score_data)\n",
      "/var/folders/8r/vf7kv7hd5f3bmfzvcl6nfqgm0000gq/T/ipykernel_23374/1673897241.py:13: FutureWarning: The frame.append method is deprecated and will be removed from pandas in a future version. Use pandas.concat instead.\n",
      "  score_data = score_data.append(temp_score_data)\n",
      "/var/folders/8r/vf7kv7hd5f3bmfzvcl6nfqgm0000gq/T/ipykernel_23374/1673897241.py:13: FutureWarning: The frame.append method is deprecated and will be removed from pandas in a future version. Use pandas.concat instead.\n",
      "  score_data = score_data.append(temp_score_data)\n",
      "/var/folders/8r/vf7kv7hd5f3bmfzvcl6nfqgm0000gq/T/ipykernel_23374/1673897241.py:13: FutureWarning: The frame.append method is deprecated and will be removed from pandas in a future version. Use pandas.concat instead.\n",
      "  score_data = score_data.append(temp_score_data)\n",
      "/var/folders/8r/vf7kv7hd5f3bmfzvcl6nfqgm0000gq/T/ipykernel_23374/1673897241.py:13: FutureWarning: The frame.append method is deprecated and will be removed from pandas in a future version. Use pandas.concat instead.\n",
      "  score_data = score_data.append(temp_score_data)\n",
      "/var/folders/8r/vf7kv7hd5f3bmfzvcl6nfqgm0000gq/T/ipykernel_23374/1673897241.py:13: FutureWarning: The frame.append method is deprecated and will be removed from pandas in a future version. Use pandas.concat instead.\n",
      "  score_data = score_data.append(temp_score_data)\n",
      "/var/folders/8r/vf7kv7hd5f3bmfzvcl6nfqgm0000gq/T/ipykernel_23374/1673897241.py:13: FutureWarning: The frame.append method is deprecated and will be removed from pandas in a future version. Use pandas.concat instead.\n",
      "  score_data = score_data.append(temp_score_data)\n",
      "/var/folders/8r/vf7kv7hd5f3bmfzvcl6nfqgm0000gq/T/ipykernel_23374/1673897241.py:13: FutureWarning: The frame.append method is deprecated and will be removed from pandas in a future version. Use pandas.concat instead.\n",
      "  score_data = score_data.append(temp_score_data)\n",
      "/var/folders/8r/vf7kv7hd5f3bmfzvcl6nfqgm0000gq/T/ipykernel_23374/1673897241.py:13: FutureWarning: The frame.append method is deprecated and will be removed from pandas in a future version. Use pandas.concat instead.\n",
      "  score_data = score_data.append(temp_score_data)\n",
      "/var/folders/8r/vf7kv7hd5f3bmfzvcl6nfqgm0000gq/T/ipykernel_23374/1673897241.py:13: FutureWarning: The frame.append method is deprecated and will be removed from pandas in a future version. Use pandas.concat instead.\n",
      "  score_data = score_data.append(temp_score_data)\n",
      "/var/folders/8r/vf7kv7hd5f3bmfzvcl6nfqgm0000gq/T/ipykernel_23374/1673897241.py:13: FutureWarning: The frame.append method is deprecated and will be removed from pandas in a future version. Use pandas.concat instead.\n",
      "  score_data = score_data.append(temp_score_data)\n",
      "/var/folders/8r/vf7kv7hd5f3bmfzvcl6nfqgm0000gq/T/ipykernel_23374/1673897241.py:13: FutureWarning: The frame.append method is deprecated and will be removed from pandas in a future version. Use pandas.concat instead.\n",
      "  score_data = score_data.append(temp_score_data)\n",
      "/var/folders/8r/vf7kv7hd5f3bmfzvcl6nfqgm0000gq/T/ipykernel_23374/1673897241.py:13: FutureWarning: The frame.append method is deprecated and will be removed from pandas in a future version. Use pandas.concat instead.\n",
      "  score_data = score_data.append(temp_score_data)\n",
      "/var/folders/8r/vf7kv7hd5f3bmfzvcl6nfqgm0000gq/T/ipykernel_23374/1673897241.py:13: FutureWarning: The frame.append method is deprecated and will be removed from pandas in a future version. Use pandas.concat instead.\n",
      "  score_data = score_data.append(temp_score_data)\n",
      "/var/folders/8r/vf7kv7hd5f3bmfzvcl6nfqgm0000gq/T/ipykernel_23374/1673897241.py:13: FutureWarning: The frame.append method is deprecated and will be removed from pandas in a future version. Use pandas.concat instead.\n",
      "  score_data = score_data.append(temp_score_data)\n",
      "/var/folders/8r/vf7kv7hd5f3bmfzvcl6nfqgm0000gq/T/ipykernel_23374/1673897241.py:13: FutureWarning: The frame.append method is deprecated and will be removed from pandas in a future version. Use pandas.concat instead.\n",
      "  score_data = score_data.append(temp_score_data)\n",
      "/var/folders/8r/vf7kv7hd5f3bmfzvcl6nfqgm0000gq/T/ipykernel_23374/1673897241.py:13: FutureWarning: The frame.append method is deprecated and will be removed from pandas in a future version. Use pandas.concat instead.\n",
      "  score_data = score_data.append(temp_score_data)\n",
      "/var/folders/8r/vf7kv7hd5f3bmfzvcl6nfqgm0000gq/T/ipykernel_23374/1673897241.py:13: FutureWarning: The frame.append method is deprecated and will be removed from pandas in a future version. Use pandas.concat instead.\n",
      "  score_data = score_data.append(temp_score_data)\n",
      "/var/folders/8r/vf7kv7hd5f3bmfzvcl6nfqgm0000gq/T/ipykernel_23374/1673897241.py:13: FutureWarning: The frame.append method is deprecated and will be removed from pandas in a future version. Use pandas.concat instead.\n",
      "  score_data = score_data.append(temp_score_data)\n",
      "/var/folders/8r/vf7kv7hd5f3bmfzvcl6nfqgm0000gq/T/ipykernel_23374/1673897241.py:13: FutureWarning: The frame.append method is deprecated and will be removed from pandas in a future version. Use pandas.concat instead.\n",
      "  score_data = score_data.append(temp_score_data)\n",
      "/var/folders/8r/vf7kv7hd5f3bmfzvcl6nfqgm0000gq/T/ipykernel_23374/1673897241.py:13: FutureWarning: The frame.append method is deprecated and will be removed from pandas in a future version. Use pandas.concat instead.\n",
      "  score_data = score_data.append(temp_score_data)\n",
      "/var/folders/8r/vf7kv7hd5f3bmfzvcl6nfqgm0000gq/T/ipykernel_23374/1673897241.py:13: FutureWarning: The frame.append method is deprecated and will be removed from pandas in a future version. Use pandas.concat instead.\n",
      "  score_data = score_data.append(temp_score_data)\n",
      "/var/folders/8r/vf7kv7hd5f3bmfzvcl6nfqgm0000gq/T/ipykernel_23374/1673897241.py:13: FutureWarning: The frame.append method is deprecated and will be removed from pandas in a future version. Use pandas.concat instead.\n",
      "  score_data = score_data.append(temp_score_data)\n",
      "/var/folders/8r/vf7kv7hd5f3bmfzvcl6nfqgm0000gq/T/ipykernel_23374/1673897241.py:13: FutureWarning: The frame.append method is deprecated and will be removed from pandas in a future version. Use pandas.concat instead.\n",
      "  score_data = score_data.append(temp_score_data)\n",
      "/var/folders/8r/vf7kv7hd5f3bmfzvcl6nfqgm0000gq/T/ipykernel_23374/1673897241.py:13: FutureWarning: The frame.append method is deprecated and will be removed from pandas in a future version. Use pandas.concat instead.\n",
      "  score_data = score_data.append(temp_score_data)\n",
      "/var/folders/8r/vf7kv7hd5f3bmfzvcl6nfqgm0000gq/T/ipykernel_23374/1673897241.py:13: FutureWarning: The frame.append method is deprecated and will be removed from pandas in a future version. Use pandas.concat instead.\n",
      "  score_data = score_data.append(temp_score_data)\n",
      "/var/folders/8r/vf7kv7hd5f3bmfzvcl6nfqgm0000gq/T/ipykernel_23374/1673897241.py:13: FutureWarning: The frame.append method is deprecated and will be removed from pandas in a future version. Use pandas.concat instead.\n",
      "  score_data = score_data.append(temp_score_data)\n",
      "/var/folders/8r/vf7kv7hd5f3bmfzvcl6nfqgm0000gq/T/ipykernel_23374/1673897241.py:13: FutureWarning: The frame.append method is deprecated and will be removed from pandas in a future version. Use pandas.concat instead.\n",
      "  score_data = score_data.append(temp_score_data)\n",
      "/var/folders/8r/vf7kv7hd5f3bmfzvcl6nfqgm0000gq/T/ipykernel_23374/1673897241.py:13: FutureWarning: The frame.append method is deprecated and will be removed from pandas in a future version. Use pandas.concat instead.\n",
      "  score_data = score_data.append(temp_score_data)\n",
      "/var/folders/8r/vf7kv7hd5f3bmfzvcl6nfqgm0000gq/T/ipykernel_23374/1673897241.py:13: FutureWarning: The frame.append method is deprecated and will be removed from pandas in a future version. Use pandas.concat instead.\n",
      "  score_data = score_data.append(temp_score_data)\n",
      "/var/folders/8r/vf7kv7hd5f3bmfzvcl6nfqgm0000gq/T/ipykernel_23374/1673897241.py:13: FutureWarning: The frame.append method is deprecated and will be removed from pandas in a future version. Use pandas.concat instead.\n",
      "  score_data = score_data.append(temp_score_data)\n",
      "/var/folders/8r/vf7kv7hd5f3bmfzvcl6nfqgm0000gq/T/ipykernel_23374/1673897241.py:13: FutureWarning: The frame.append method is deprecated and will be removed from pandas in a future version. Use pandas.concat instead.\n",
      "  score_data = score_data.append(temp_score_data)\n",
      "/var/folders/8r/vf7kv7hd5f3bmfzvcl6nfqgm0000gq/T/ipykernel_23374/1673897241.py:13: FutureWarning: The frame.append method is deprecated and will be removed from pandas in a future version. Use pandas.concat instead.\n",
      "  score_data = score_data.append(temp_score_data)\n",
      "/var/folders/8r/vf7kv7hd5f3bmfzvcl6nfqgm0000gq/T/ipykernel_23374/1673897241.py:13: FutureWarning: The frame.append method is deprecated and will be removed from pandas in a future version. Use pandas.concat instead.\n",
      "  score_data = score_data.append(temp_score_data)\n",
      "/var/folders/8r/vf7kv7hd5f3bmfzvcl6nfqgm0000gq/T/ipykernel_23374/1673897241.py:13: FutureWarning: The frame.append method is deprecated and will be removed from pandas in a future version. Use pandas.concat instead.\n",
      "  score_data = score_data.append(temp_score_data)\n",
      "/var/folders/8r/vf7kv7hd5f3bmfzvcl6nfqgm0000gq/T/ipykernel_23374/1673897241.py:13: FutureWarning: The frame.append method is deprecated and will be removed from pandas in a future version. Use pandas.concat instead.\n",
      "  score_data = score_data.append(temp_score_data)\n",
      "/var/folders/8r/vf7kv7hd5f3bmfzvcl6nfqgm0000gq/T/ipykernel_23374/1673897241.py:13: FutureWarning: The frame.append method is deprecated and will be removed from pandas in a future version. Use pandas.concat instead.\n",
      "  score_data = score_data.append(temp_score_data)\n",
      "/var/folders/8r/vf7kv7hd5f3bmfzvcl6nfqgm0000gq/T/ipykernel_23374/1673897241.py:13: FutureWarning: The frame.append method is deprecated and will be removed from pandas in a future version. Use pandas.concat instead.\n",
      "  score_data = score_data.append(temp_score_data)\n",
      "/var/folders/8r/vf7kv7hd5f3bmfzvcl6nfqgm0000gq/T/ipykernel_23374/1673897241.py:13: FutureWarning: The frame.append method is deprecated and will be removed from pandas in a future version. Use pandas.concat instead.\n",
      "  score_data = score_data.append(temp_score_data)\n",
      "/var/folders/8r/vf7kv7hd5f3bmfzvcl6nfqgm0000gq/T/ipykernel_23374/1673897241.py:13: FutureWarning: The frame.append method is deprecated and will be removed from pandas in a future version. Use pandas.concat instead.\n",
      "  score_data = score_data.append(temp_score_data)\n",
      "/var/folders/8r/vf7kv7hd5f3bmfzvcl6nfqgm0000gq/T/ipykernel_23374/1673897241.py:13: FutureWarning: The frame.append method is deprecated and will be removed from pandas in a future version. Use pandas.concat instead.\n",
      "  score_data = score_data.append(temp_score_data)\n",
      "/var/folders/8r/vf7kv7hd5f3bmfzvcl6nfqgm0000gq/T/ipykernel_23374/1673897241.py:13: FutureWarning: The frame.append method is deprecated and will be removed from pandas in a future version. Use pandas.concat instead.\n",
      "  score_data = score_data.append(temp_score_data)\n",
      "/var/folders/8r/vf7kv7hd5f3bmfzvcl6nfqgm0000gq/T/ipykernel_23374/1673897241.py:13: FutureWarning: The frame.append method is deprecated and will be removed from pandas in a future version. Use pandas.concat instead.\n",
      "  score_data = score_data.append(temp_score_data)\n",
      "/var/folders/8r/vf7kv7hd5f3bmfzvcl6nfqgm0000gq/T/ipykernel_23374/1673897241.py:13: FutureWarning: The frame.append method is deprecated and will be removed from pandas in a future version. Use pandas.concat instead.\n",
      "  score_data = score_data.append(temp_score_data)\n",
      "/var/folders/8r/vf7kv7hd5f3bmfzvcl6nfqgm0000gq/T/ipykernel_23374/1673897241.py:13: FutureWarning: The frame.append method is deprecated and will be removed from pandas in a future version. Use pandas.concat instead.\n",
      "  score_data = score_data.append(temp_score_data)\n",
      "/var/folders/8r/vf7kv7hd5f3bmfzvcl6nfqgm0000gq/T/ipykernel_23374/1673897241.py:13: FutureWarning: The frame.append method is deprecated and will be removed from pandas in a future version. Use pandas.concat instead.\n",
      "  score_data = score_data.append(temp_score_data)\n",
      "/var/folders/8r/vf7kv7hd5f3bmfzvcl6nfqgm0000gq/T/ipykernel_23374/1673897241.py:13: FutureWarning: The frame.append method is deprecated and will be removed from pandas in a future version. Use pandas.concat instead.\n",
      "  score_data = score_data.append(temp_score_data)\n",
      "/var/folders/8r/vf7kv7hd5f3bmfzvcl6nfqgm0000gq/T/ipykernel_23374/1673897241.py:13: FutureWarning: The frame.append method is deprecated and will be removed from pandas in a future version. Use pandas.concat instead.\n",
      "  score_data = score_data.append(temp_score_data)\n",
      "/var/folders/8r/vf7kv7hd5f3bmfzvcl6nfqgm0000gq/T/ipykernel_23374/1673897241.py:13: FutureWarning: The frame.append method is deprecated and will be removed from pandas in a future version. Use pandas.concat instead.\n",
      "  score_data = score_data.append(temp_score_data)\n",
      "/var/folders/8r/vf7kv7hd5f3bmfzvcl6nfqgm0000gq/T/ipykernel_23374/1673897241.py:13: FutureWarning: The frame.append method is deprecated and will be removed from pandas in a future version. Use pandas.concat instead.\n",
      "  score_data = score_data.append(temp_score_data)\n",
      "/var/folders/8r/vf7kv7hd5f3bmfzvcl6nfqgm0000gq/T/ipykernel_23374/1673897241.py:13: FutureWarning: The frame.append method is deprecated and will be removed from pandas in a future version. Use pandas.concat instead.\n",
      "  score_data = score_data.append(temp_score_data)\n",
      "/var/folders/8r/vf7kv7hd5f3bmfzvcl6nfqgm0000gq/T/ipykernel_23374/1673897241.py:13: FutureWarning: The frame.append method is deprecated and will be removed from pandas in a future version. Use pandas.concat instead.\n",
      "  score_data = score_data.append(temp_score_data)\n",
      "/var/folders/8r/vf7kv7hd5f3bmfzvcl6nfqgm0000gq/T/ipykernel_23374/1673897241.py:13: FutureWarning: The frame.append method is deprecated and will be removed from pandas in a future version. Use pandas.concat instead.\n",
      "  score_data = score_data.append(temp_score_data)\n",
      "/var/folders/8r/vf7kv7hd5f3bmfzvcl6nfqgm0000gq/T/ipykernel_23374/1673897241.py:13: FutureWarning: The frame.append method is deprecated and will be removed from pandas in a future version. Use pandas.concat instead.\n",
      "  score_data = score_data.append(temp_score_data)\n",
      "/var/folders/8r/vf7kv7hd5f3bmfzvcl6nfqgm0000gq/T/ipykernel_23374/1673897241.py:13: FutureWarning: The frame.append method is deprecated and will be removed from pandas in a future version. Use pandas.concat instead.\n",
      "  score_data = score_data.append(temp_score_data)\n",
      "/var/folders/8r/vf7kv7hd5f3bmfzvcl6nfqgm0000gq/T/ipykernel_23374/1673897241.py:13: FutureWarning: The frame.append method is deprecated and will be removed from pandas in a future version. Use pandas.concat instead.\n",
      "  score_data = score_data.append(temp_score_data)\n",
      "/var/folders/8r/vf7kv7hd5f3bmfzvcl6nfqgm0000gq/T/ipykernel_23374/1673897241.py:13: FutureWarning: The frame.append method is deprecated and will be removed from pandas in a future version. Use pandas.concat instead.\n",
      "  score_data = score_data.append(temp_score_data)\n",
      "/var/folders/8r/vf7kv7hd5f3bmfzvcl6nfqgm0000gq/T/ipykernel_23374/1673897241.py:13: FutureWarning: The frame.append method is deprecated and will be removed from pandas in a future version. Use pandas.concat instead.\n",
      "  score_data = score_data.append(temp_score_data)\n",
      "/var/folders/8r/vf7kv7hd5f3bmfzvcl6nfqgm0000gq/T/ipykernel_23374/1673897241.py:13: FutureWarning: The frame.append method is deprecated and will be removed from pandas in a future version. Use pandas.concat instead.\n",
      "  score_data = score_data.append(temp_score_data)\n",
      "/var/folders/8r/vf7kv7hd5f3bmfzvcl6nfqgm0000gq/T/ipykernel_23374/1673897241.py:13: FutureWarning: The frame.append method is deprecated and will be removed from pandas in a future version. Use pandas.concat instead.\n",
      "  score_data = score_data.append(temp_score_data)\n",
      "/var/folders/8r/vf7kv7hd5f3bmfzvcl6nfqgm0000gq/T/ipykernel_23374/1673897241.py:13: FutureWarning: The frame.append method is deprecated and will be removed from pandas in a future version. Use pandas.concat instead.\n",
      "  score_data = score_data.append(temp_score_data)\n",
      "/var/folders/8r/vf7kv7hd5f3bmfzvcl6nfqgm0000gq/T/ipykernel_23374/1673897241.py:13: FutureWarning: The frame.append method is deprecated and will be removed from pandas in a future version. Use pandas.concat instead.\n",
      "  score_data = score_data.append(temp_score_data)\n",
      "/var/folders/8r/vf7kv7hd5f3bmfzvcl6nfqgm0000gq/T/ipykernel_23374/1673897241.py:13: FutureWarning: The frame.append method is deprecated and will be removed from pandas in a future version. Use pandas.concat instead.\n",
      "  score_data = score_data.append(temp_score_data)\n",
      "/var/folders/8r/vf7kv7hd5f3bmfzvcl6nfqgm0000gq/T/ipykernel_23374/1673897241.py:13: FutureWarning: The frame.append method is deprecated and will be removed from pandas in a future version. Use pandas.concat instead.\n",
      "  score_data = score_data.append(temp_score_data)\n",
      "/var/folders/8r/vf7kv7hd5f3bmfzvcl6nfqgm0000gq/T/ipykernel_23374/1673897241.py:13: FutureWarning: The frame.append method is deprecated and will be removed from pandas in a future version. Use pandas.concat instead.\n",
      "  score_data = score_data.append(temp_score_data)\n",
      "/var/folders/8r/vf7kv7hd5f3bmfzvcl6nfqgm0000gq/T/ipykernel_23374/1673897241.py:13: FutureWarning: The frame.append method is deprecated and will be removed from pandas in a future version. Use pandas.concat instead.\n",
      "  score_data = score_data.append(temp_score_data)\n"
     ]
    }
   ],
   "source": [
    "for max_depth in max_depth_values:\n",
    "    clf = tree.DecisionTreeClassifier(criterion='entropy', max_depth=max_depth)\n",
    "    clf.fit(X_train, y_train)\n",
    "    train_score =  clf.score(X_train, y_train)\n",
    "    test_score = clf.score(X_test, y_test)\n",
    "\n",
    "    mean_cross_val_score = cross_val_score(clf, X_train, y_train, cv=10).mean() # все точки теперь используются и для теста и для обучения\n",
    "\n",
    "    temp_score_data = pd.DataFrame({'max_depth':[max_depth],\n",
    "                                    'train_score':[train_score],\n",
    "                                    'test_score':[test_score],\n",
    "                                    'cross_val_score':[mean_cross_val_score]})\n",
    "    score_data = score_data.append(temp_score_data)"
   ],
   "metadata": {
    "collapsed": false,
    "pycharm": {
     "name": "#%%\n"
    }
   }
  },
  {
   "cell_type": "code",
   "execution_count": 29,
   "outputs": [
    {
     "data": {
      "text/plain": "   max_depth  train_score  test_score  cross_val_score\n0          1          1.0         1.0              1.0\n0          2          1.0         1.0              1.0\n0          3          1.0         1.0              1.0\n0          4          1.0         1.0              1.0\n0          5          1.0         1.0              1.0\n0          6          1.0         1.0              1.0\n0          7          1.0         1.0              1.0\n0          8          1.0         1.0              1.0\n0          9          1.0         1.0              1.0\n0         10          1.0         1.0              1.0",
      "text/html": "<div>\n<style scoped>\n    .dataframe tbody tr th:only-of-type {\n        vertical-align: middle;\n    }\n\n    .dataframe tbody tr th {\n        vertical-align: top;\n    }\n\n    .dataframe thead th {\n        text-align: right;\n    }\n</style>\n<table border=\"1\" class=\"dataframe\">\n  <thead>\n    <tr style=\"text-align: right;\">\n      <th></th>\n      <th>max_depth</th>\n      <th>train_score</th>\n      <th>test_score</th>\n      <th>cross_val_score</th>\n    </tr>\n  </thead>\n  <tbody>\n    <tr>\n      <th>0</th>\n      <td>1</td>\n      <td>1.0</td>\n      <td>1.0</td>\n      <td>1.0</td>\n    </tr>\n    <tr>\n      <th>0</th>\n      <td>2</td>\n      <td>1.0</td>\n      <td>1.0</td>\n      <td>1.0</td>\n    </tr>\n    <tr>\n      <th>0</th>\n      <td>3</td>\n      <td>1.0</td>\n      <td>1.0</td>\n      <td>1.0</td>\n    </tr>\n    <tr>\n      <th>0</th>\n      <td>4</td>\n      <td>1.0</td>\n      <td>1.0</td>\n      <td>1.0</td>\n    </tr>\n    <tr>\n      <th>0</th>\n      <td>5</td>\n      <td>1.0</td>\n      <td>1.0</td>\n      <td>1.0</td>\n    </tr>\n    <tr>\n      <th>0</th>\n      <td>6</td>\n      <td>1.0</td>\n      <td>1.0</td>\n      <td>1.0</td>\n    </tr>\n    <tr>\n      <th>0</th>\n      <td>7</td>\n      <td>1.0</td>\n      <td>1.0</td>\n      <td>1.0</td>\n    </tr>\n    <tr>\n      <th>0</th>\n      <td>8</td>\n      <td>1.0</td>\n      <td>1.0</td>\n      <td>1.0</td>\n    </tr>\n    <tr>\n      <th>0</th>\n      <td>9</td>\n      <td>1.0</td>\n      <td>1.0</td>\n      <td>1.0</td>\n    </tr>\n    <tr>\n      <th>0</th>\n      <td>10</td>\n      <td>1.0</td>\n      <td>1.0</td>\n      <td>1.0</td>\n    </tr>\n  </tbody>\n</table>\n</div>"
     },
     "execution_count": 29,
     "metadata": {},
     "output_type": "execute_result"
    }
   ],
   "source": [
    "score_data.head(10)"
   ],
   "metadata": {
    "collapsed": false,
    "pycharm": {
     "name": "#%%\n"
    }
   }
  },
  {
   "cell_type": "code",
   "execution_count": 30,
   "outputs": [],
   "source": [
    "score_data_long = pd.melt(score_data, id_vars=['max_depth'], value_vars=['train_score', 'test_score'],\n",
    "                                  var_name='set_type', value_name='score')"
   ],
   "metadata": {
    "collapsed": false,
    "pycharm": {
     "name": "#%%\n"
    }
   }
  },
  {
   "cell_type": "code",
   "execution_count": 31,
   "outputs": [
    {
     "data": {
      "text/plain": "   max_depth     set_type  score\n0          1  train_score    1.0\n1          2  train_score    1.0\n2          3  train_score    1.0\n3          4  train_score    1.0\n4          5  train_score    1.0",
      "text/html": "<div>\n<style scoped>\n    .dataframe tbody tr th:only-of-type {\n        vertical-align: middle;\n    }\n\n    .dataframe tbody tr th {\n        vertical-align: top;\n    }\n\n    .dataframe thead th {\n        text-align: right;\n    }\n</style>\n<table border=\"1\" class=\"dataframe\">\n  <thead>\n    <tr style=\"text-align: right;\">\n      <th></th>\n      <th>max_depth</th>\n      <th>set_type</th>\n      <th>score</th>\n    </tr>\n  </thead>\n  <tbody>\n    <tr>\n      <th>0</th>\n      <td>1</td>\n      <td>train_score</td>\n      <td>1.0</td>\n    </tr>\n    <tr>\n      <th>1</th>\n      <td>2</td>\n      <td>train_score</td>\n      <td>1.0</td>\n    </tr>\n    <tr>\n      <th>2</th>\n      <td>3</td>\n      <td>train_score</td>\n      <td>1.0</td>\n    </tr>\n    <tr>\n      <th>3</th>\n      <td>4</td>\n      <td>train_score</td>\n      <td>1.0</td>\n    </tr>\n    <tr>\n      <th>4</th>\n      <td>5</td>\n      <td>train_score</td>\n      <td>1.0</td>\n    </tr>\n  </tbody>\n</table>\n</div>"
     },
     "execution_count": 31,
     "metadata": {},
     "output_type": "execute_result"
    }
   ],
   "source": [
    "score_data_long.head()"
   ],
   "metadata": {
    "collapsed": false,
    "pycharm": {
     "name": "#%%\n"
    }
   }
  },
  {
   "cell_type": "code",
   "execution_count": 32,
   "outputs": [
    {
     "data": {
      "text/plain": "<AxesSubplot:xlabel='max_depth', ylabel='score'>"
     },
     "execution_count": 32,
     "metadata": {},
     "output_type": "execute_result"
    },
    {
     "data": {
      "text/plain": "<Figure size 432x288 with 1 Axes>",
      "image/png": "[encoded data removed]"
     },
     "metadata": {
      "needs_background": "light"
     },
     "output_type": "display_data"
    }
   ],
   "source": [
    "sns.lineplot(x='max_depth', y='score', hue='set_type', data=score_data_long)"
   ],
   "metadata": {
    "collapsed": false,
    "pycharm": {
     "name": "#%%\n"
    }
   }
  },
  {
   "cell_type": "code",
   "execution_count": 33,
   "outputs": [],
   "source": [
    "# Обучение\n",
    "clf = tree.DecisionTreeClassifier()"
   ],
   "metadata": {
    "collapsed": false,
    "pycharm": {
     "name": "#%%\n"
    }
   }
  },
  {
   "cell_type": "code",
   "execution_count": 34,
   "outputs": [],
   "source": [
    "parametrs = {'criterion':['gini', 'entropy'], 'max_depth':range(1, 30)}"
   ],
   "metadata": {
    "collapsed": false,
    "pycharm": {
     "name": "#%%\n"
    }
   }
  },
  {
   "cell_type": "code",
   "execution_count": 35,
   "outputs": [],
   "source": [
    "# GridSearchCV – это очень мощный инструмент для автоматического подбирания параметров для моделей машинного обучения.\n",
    "\n",
    "from sklearn.model_selection import GridSearchCV\n",
    "\n",
    "grid_search_cv_clf  = GridSearchCV(clf, parametrs, cv=5) ## изучить"
   ],
   "metadata": {
    "collapsed": false,
    "pycharm": {
     "name": "#%%\n"
    }
   }
  },
  {
   "cell_type": "code",
   "execution_count": 36,
   "outputs": [
    {
     "data": {
      "text/plain": "GridSearchCV(cv=5, estimator=DecisionTreeClassifier(),\n             param_grid={'criterion': ['gini', 'entropy'],\n                         'max_depth': range(1, 30)})",
      "text/html": "<style>#sk-container-id-3 {color: black;background-color: white;}#sk-container-id-3 pre{padding: 0;}#sk-container-id-3 div.sk-toggleable {background-color: white;}#sk-container-id-3 label.sk-toggleable__label {cursor: pointer;display: block;width: 100%;margin-bottom: 0;padding: 0.3em;box-sizing: border-box;text-align: center;}#sk-container-id-3 label.sk-toggleable__label-arrow:before {content: \"▸\";float: left;margin-right: 0.25em;color: #696969;}#sk-container-id-3 label.sk-toggleable__label-arrow:hover:before {color: black;}#sk-container-id-3 div.sk-estimator:hover label.sk-toggleable__label-arrow:before {color: black;}#sk-container-id-3 div.sk-toggleable__content {max-height: 0;max-width: 0;overflow: hidden;text-align: left;background-color: #f0f8ff;}#sk-container-id-3 div.sk-toggleable__content pre {margin: 0.2em;color: black;border-radius: 0.25em;background-color: #f0f8ff;}#sk-container-id-3 input.sk-toggleable__control:checked~div.sk-toggleable__content {max-height: 200px;max-width: 100%;overflow: auto;}#sk-container-id-3 input.sk-toggleable__control:checked~label.sk-toggleable__label-arrow:before {content: \"▾\";}#sk-container-id-3 div.sk-estimator input.sk-toggleable__control:checked~label.sk-toggleable__label {background-color: #d4ebff;}#sk-container-id-3 div.sk-label input.sk-toggleable__control:checked~label.sk-toggleable__label {background-color: #d4ebff;}#sk-container-id-3 input.sk-hidden--visually {border: 0;clip: rect(1px 1px 1px 1px);clip: rect(1px, 1px, 1px, 1px);height: 1px;margin: -1px;overflow: hidden;padding: 0;position: absolute;width: 1px;}#sk-container-id-3 div.sk-estimator {font-family: monospace;background-color: #f0f8ff;border: 1px dotted black;border-radius: 0.25em;box-sizing: border-box;margin-bottom: 0.5em;}#sk-container-id-3 div.sk-estimator:hover {background-color: #d4ebff;}#sk-container-id-3 div.sk-parallel-item::after {content: \"\";width: 100%;border-bottom: 1px solid gray;flex-grow: 1;}#sk-container-id-3 div.sk-label:hover label.sk-toggleable__label {background-color: #d4ebff;}#sk-container-id-3 div.sk-serial::before {content: \"\";position: absolute;border-left: 1px solid gray;box-sizing: border-box;top: 0;bottom: 0;left: 50%;z-index: 0;}#sk-container-id-3 div.sk-serial {display: flex;flex-direction: column;align-items: center;background-color: white;padding-right: 0.2em;padding-left: 0.2em;position: relative;}#sk-container-id-3 div.sk-item {position: relative;z-index: 1;}#sk-container-id-3 div.sk-parallel {display: flex;align-items: stretch;justify-content: center;background-color: white;position: relative;}#sk-container-id-3 div.sk-item::before, #sk-container-id-3 div.sk-parallel-item::before {content: \"\";position: absolute;border-left: 1px solid gray;box-sizing: border-box;top: 0;bottom: 0;left: 50%;z-index: -1;}#sk-container-id-3 div.sk-parallel-item {display: flex;flex-direction: column;z-index: 1;position: relative;background-color: white;}#sk-container-id-3 div.sk-parallel-item:first-child::after {align-self: flex-end;width: 50%;}#sk-container-id-3 div.sk-parallel-item:last-child::after {align-self: flex-start;width: 50%;}#sk-container-id-3 div.sk-parallel-item:only-child::after {width: 0;}#sk-container-id-3 div.sk-dashed-wrapped {border: 1px dashed gray;margin: 0 0.4em 0.5em 0.4em;box-sizing: border-box;padding-bottom: 0.4em;background-color: white;}#sk-container-id-3 div.sk-label label {font-family: monospace;font-weight: bold;display: inline-block;line-height: 1.2em;}#sk-container-id-3 div.sk-label-container {text-align: center;}#sk-container-id-3 div.sk-container {/* jupyter's `normalize.less` sets `[hidden] { display: none; }` but bootstrap.min.css set `[hidden] { display: none !important; }` so we also need the `!important` here to be able to override the default hidden behavior on the sphinx rendered scikit-learn.org. See: https://github.com/scikit-learn/scikit-learn/issues/21755 */display: inline-block !important;position: relative;}#sk-container-id-3 div.sk-text-repr-fallback {display: none;}</style><div id=\"sk-container-id-3\" class=\"sk-top-container\"><div class=\"sk-text-repr-fallback\"><pre>GridSearchCV(cv=5, estimator=DecisionTreeClassifier(),\n             param_grid={&#x27;criterion&#x27;: [&#x27;gini&#x27;, &#x27;entropy&#x27;],\n                         &#x27;max_depth&#x27;: range(1, 30)})</pre><b>In a Jupyter environment, please rerun this cell to show the HTML representation or trust the notebook. <br />On GitHub, the HTML representation is unable to render, please try loading this page with nbviewer.org.</b></div><div class=\"sk-container\" hidden><div class=\"sk-item sk-dashed-wrapped\"><div class=\"sk-label-container\"><div class=\"sk-label sk-toggleable\"><input class=\"sk-toggleable__control sk-hidden--visually\" id=\"sk-estimator-id-3\" type=\"checkbox\" ><label for=\"sk-estimator-id-3\" class=\"sk-toggleable__label sk-toggleable__label-arrow\">GridSearchCV</label><div class=\"sk-toggleable__content\"><pre>GridSearchCV(cv=5, estimator=DecisionTreeClassifier(),\n             param_grid={&#x27;criterion&#x27;: [&#x27;gini&#x27;, &#x27;entropy&#x27;],\n                         &#x27;max_depth&#x27;: range(1, 30)})</pre></div></div></div><div class=\"sk-parallel\"><div class=\"sk-parallel-item\"><div class=\"sk-item\"><div class=\"sk-label-container\"><div class=\"sk-label sk-toggleable\"><input class=\"sk-toggleable__control sk-hidden--visually\" id=\"sk-estimator-id-4\" type=\"checkbox\" ><label for=\"sk-estimator-id-4\" class=\"sk-toggleable__label sk-toggleable__label-arrow\">estimator: DecisionTreeClassifier</label><div class=\"sk-toggleable__content\"><pre>DecisionTreeClassifier()</pre></div></div></div><div class=\"sk-serial\"><div class=\"sk-item\"><div class=\"sk-estimator sk-toggleable\"><input class=\"sk-toggleable__control sk-hidden--visually\" id=\"sk-estimator-id-5\" type=\"checkbox\" ><label for=\"sk-estimator-id-5\" class=\"sk-toggleable__label sk-toggleable__label-arrow\">DecisionTreeClassifier</label><div class=\"sk-toggleable__content\"><pre>DecisionTreeClassifier()</pre></div></div></div></div></div></div></div></div></div></div>"
     },
     "execution_count": 36,
     "metadata": {},
     "output_type": "execute_result"
    }
   ],
   "source": [
    "grid_search_cv_clf.fit(X_train, y_train)"
   ],
   "metadata": {
    "collapsed": false,
    "pycharm": {
     "name": "#%%\n"
    }
   }
  },
  {
   "cell_type": "code",
   "execution_count": 37,
   "outputs": [
    {
     "data": {
      "text/plain": "{'criterion': 'gini', 'max_depth': 1}"
     },
     "execution_count": 37,
     "metadata": {},
     "output_type": "execute_result"
    }
   ],
   "source": [
    "# Посмотрим подобранные параметры\n",
    "grid_search_cv_clf.best_params_"
   ],
   "metadata": {
    "collapsed": false,
    "pycharm": {
     "name": "#%%\n"
    }
   }
  },
  {
   "cell_type": "code",
   "execution_count": 38,
   "outputs": [],
   "source": [
    "best_cfl = grid_search_cv_clf.best_estimator_"
   ],
   "metadata": {
    "collapsed": false,
    "pycharm": {
     "name": "#%%\n"
    }
   }
  },
  {
   "cell_type": "code",
   "execution_count": 39,
   "outputs": [
    {
     "data": {
      "text/plain": "1.0"
     },
     "execution_count": 39,
     "metadata": {},
     "output_type": "execute_result"
    }
   ],
   "source": [
    "# Протестируем обученную модель\n",
    "best_cfl.score(X_test, y_test)"
   ],
   "metadata": {
    "collapsed": false,
    "pycharm": {
     "name": "#%%\n"
    }
   }
  },
  {
   "cell_type": "code",
   "execution_count": 40,
   "outputs": [
    {
     "name": "stderr",
     "output_type": "stream",
     "text": [
      "/Users/nikolaibabuhin/PycharmProjects/sirius_data/venv/lib/python3.8/site-packages/sklearn/base.py:450: UserWarning: X does not have valid feature names, but DecisionTreeClassifier was fitted with feature names\n",
      "  warnings.warn(\n"
     ]
    },
    {
     "data": {
      "text/plain": "array(['аварийно высокое'], dtype=object)"
     },
     "execution_count": 40,
     "metadata": {},
     "output_type": "execute_result"
    }
   ],
   "source": [
    "best_cfl.predict([[14259, 7]])"
   ],
   "metadata": {
    "collapsed": false,
    "pycharm": {
     "name": "#%%\n"
    }
   }
  },
  {
   "cell_type": "code",
   "execution_count": 41,
   "outputs": [
    {
     "data": {
      "text/plain": "<AxesSubplot:xlabel='max_depth', ylabel='score'>"
     },
     "execution_count": 41,
     "metadata": {},
     "output_type": "execute_result"
    },
    {
     "data": {
      "text/plain": "<Figure size 432x288 with 1 Axes>",
      "image/png": "[encoded data removed]"
     },
     "metadata": {
      "needs_background": "light"
     },
     "output_type": "display_data"
    }
   ],
   "source": [
    "sns.lineplot(x='max_depth', y='score', hue='set_type', data=score_data_long)"
   ],
   "metadata": {
    "collapsed": false,
    "pycharm": {
     "name": "#%%\n"
    }
   }
  },
  {
   "cell_type": "code",
   "execution_count": 42,
   "outputs": [],
   "source": [
    "# Анализ метрик проверка качества системы\n",
    "from sklearn.metrics import precision_score, recall_score"
   ],
   "metadata": {
    "collapsed": false,
    "pycharm": {
     "name": "#%%\n"
    }
   }
  },
  {
   "cell_type": "code",
   "execution_count": 43,
   "outputs": [],
   "source": [
    "y_pred =  best_cfl.predict(X_test, )"
   ],
   "metadata": {
    "collapsed": false,
    "pycharm": {
     "name": "#%%\n"
    }
   }
  },
  {
   "cell_type": "code",
   "execution_count": 44,
   "outputs": [
    {
     "data": {
      "text/plain": "1.0"
     },
     "execution_count": 44,
     "metadata": {},
     "output_type": "execute_result"
    }
   ],
   "source": [
    "#precision_score(y_test, y_pred) # Precig\n",
    "precision_score(y_test, y_pred, average=\"binary\", pos_label=\"аварийно высокое\")"
   ],
   "metadata": {
    "collapsed": false,
    "pycharm": {
     "name": "#%%\n"
    }
   }
  },
  {
   "cell_type": "code",
   "execution_count": 45,
   "outputs": [
    {
     "data": {
      "text/plain": "1.0"
     },
     "execution_count": 45,
     "metadata": {},
     "output_type": "execute_result"
    }
   ],
   "source": [
    "recall_score(y_test, y_pred, average=\"binary\", pos_label=\"аварийно высокое\")# Recol"
   ],
   "metadata": {
    "collapsed": false,
    "pycharm": {
     "name": "#%%\n"
    }
   }
  },
  {
   "cell_type": "code",
   "execution_count": 46,
   "outputs": [],
   "source": [
    "у_predicted_prob = best_cfl.predict_proba(X_test)"
   ],
   "metadata": {
    "collapsed": false,
    "pycharm": {
     "name": "#%%\n"
    }
   }
  },
  {
   "cell_type": "code",
   "execution_count": 47,
   "outputs": [
    {
     "data": {
      "text/plain": "array([[0., 1.],\n       [0., 1.],\n       [0., 1.],\n       ...,\n       [0., 1.],\n       [0., 1.],\n       [0., 1.]])"
     },
     "execution_count": 47,
     "metadata": {},
     "output_type": "execute_result"
    }
   ],
   "source": [
    "у_predicted_prob"
   ],
   "metadata": {
    "collapsed": false,
    "pycharm": {
     "name": "#%%\n"
    }
   }
  },
  {
   "cell_type": "code",
   "execution_count": 48,
   "outputs": [
    {
     "data": {
      "text/plain": "<AxesSubplot:>"
     },
     "execution_count": 48,
     "metadata": {},
     "output_type": "execute_result"
    },
    {
     "data": {
      "text/plain": "<Figure size 432x288 with 1 Axes>",
      "image/png": "[encoded data removed]"
     },
     "metadata": {
      "needs_background": "light"
     },
     "output_type": "display_data"
    }
   ],
   "source": [
    "pd.Series(у_predicted_prob[0:, 1]).hist()"
   ],
   "metadata": {
    "collapsed": false,
    "pycharm": {
     "name": "#%%\n"
    }
   }
  },
  {
   "cell_type": "code",
   "execution_count": 49,
   "outputs": [
    {
     "data": {
      "text/plain": "                  values_state_frequency\ndata_time                               \n31.05.2022 13:36                       0\n15.04.2022 03:27                       0\n01.06.2022 22:50                       0\n16.04.2022 08:24                       1\n26.04.2022 13:23                       0",
      "text/html": "<div>\n<style scoped>\n    .dataframe tbody tr th:only-of-type {\n        vertical-align: middle;\n    }\n\n    .dataframe tbody tr th {\n        vertical-align: top;\n    }\n\n    .dataframe thead th {\n        text-align: right;\n    }\n</style>\n<table border=\"1\" class=\"dataframe\">\n  <thead>\n    <tr style=\"text-align: right;\">\n      <th></th>\n      <th>values_state_frequency</th>\n    </tr>\n    <tr>\n      <th>data_time</th>\n      <th></th>\n    </tr>\n  </thead>\n  <tbody>\n    <tr>\n      <th>31.05.2022 13:36</th>\n      <td>0</td>\n    </tr>\n    <tr>\n      <th>15.04.2022 03:27</th>\n      <td>0</td>\n    </tr>\n    <tr>\n      <th>01.06.2022 22:50</th>\n      <td>0</td>\n    </tr>\n    <tr>\n      <th>16.04.2022 08:24</th>\n      <td>1</td>\n    </tr>\n    <tr>\n      <th>26.04.2022 13:23</th>\n      <td>0</td>\n    </tr>\n  </tbody>\n</table>\n</div>"
     },
     "execution_count": 49,
     "metadata": {},
     "output_type": "execute_result"
    }
   ],
   "source": [
    "# Проведем бинаризацию данных\n",
    "mapping = {'аварийно высокое':1,'норма': 0}\n",
    "y_test['values_state_frequency'] = y_test['values_state_frequency'].map(mapping)\n",
    "y_test.head()"
   ],
   "metadata": {
    "collapsed": false,
    "pycharm": {
     "name": "#%%\n"
    }
   }
  },
  {
   "cell_type": "code",
   "execution_count": 50,
   "outputs": [
    {
     "data": {
      "text/plain": "<matplotlib.legend.Legend at 0x172e39910>"
     },
     "execution_count": 50,
     "metadata": {},
     "output_type": "execute_result"
    },
    {
     "data": {
      "text/plain": "<Figure size 432x288 with 1 Axes>",
      "image/png": "[encoded data removed]"
     },
     "metadata": {
      "needs_background": "light"
     },
     "output_type": "display_data"
    }
   ],
   "source": [
    "# Построение ROC кривой https://scikit-learn.org/stable/auto_examples/model_selection/plot_roc.html?from_mobile_app=true&mobile_internal_deeplink=true\n",
    "\n",
    "from sklearn import svm, datasets\n",
    "from sklearn.metrics import roc_curve, auc\n",
    "from sklearn.model_selection import train_test_split\n",
    "from sklearn.preprocessing import label_binarize\n",
    "from sklearn.multiclass import OneVsRestClassifier\n",
    "from sklearn.metrics import roc_auc_score\n",
    "\n",
    "# Чем хуже классификатор тем ближе кривая к прямой далее что важнее ROC AOC 90 % что все огонь\n",
    "fpr, tpr, thresholds = roc_curve(y_test, у_predicted_prob[:,1])\n",
    "roc_auc= auc(fpr, tpr)\n",
    "plt.figure()\n",
    "plt.plot(fpr, tpr, label='ROC curve (area = %0.2f)' % (roc_auc))\n",
    "plt.plot([0, 1], [0, 1] , 'k--')\n",
    "plt.xlim([0.0, 1.0])\n",
    "plt.ylim([0.0, 1.05])\n",
    "plt.xlabel('False Positive Rate')\n",
    "plt.ylabel('True Positive Rate')\n",
    "plt.title('Receiver operating characteristic')\n",
    "plt.legend(loc=\"lower right\")"
   ],
   "metadata": {
    "collapsed": false,
    "pycharm": {
     "name": "#%%\n"
    }
   }
  },
  {
   "cell_type": "code",
   "execution_count": 50,
   "outputs": [],
   "source": [],
   "metadata": {
    "collapsed": false,
    "pycharm": {
     "name": "#%%\n"
    }
   }
  }
 ],
 "metadata": {
  "kernelspec": {
   "display_name": "Python 3",
   "language": "python",
   "name": "python3"
  },
  "language_info": {
   "codemirror_mode": {
    "name": "ipython",
    "version": 2
   },
   "file_extension": ".py",
   "mimetype": "text/x-python",
   "name": "python",
   "nbconvert_exporter": "python",
   "pygments_lexer": "ipython2",
   "version": "2.7.6"
  }
 },
 "nbformat": 4,
 "nbformat_minor": 0
}