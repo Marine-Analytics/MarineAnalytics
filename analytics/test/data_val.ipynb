{
 "cells": [
  {
   "cell_type": "code",
   "execution_count": 2,
   "metadata": {
    "collapsed": true,
    "pycharm": {
     "name": "#%%\n"
    }
   },
   "outputs": [],
   "source": [
    "from sklearn import tree\n",
    "import pandas as pd\n",
    "import matplotlib.pyplot as plt\n",
    "import seaborn as sns\n",
    "import numpy as np\n",
    "from sklearn.model_selection import train_test_split\n",
    "%matplotlib inline"
   ]
  },
  {
   "cell_type": "markdown",
   "source": [],
   "metadata": {
    "collapsed": false,
    "pycharm": {
     "name": "#%% md\n"
    }
   }
  },
  {
   "cell_type": "code",
   "execution_count": 2,
   "outputs": [],
   "source": [
    "from IPython.display import SVG\n",
    "from graphviz import Source\n",
    "from IPython.display import display\n",
    "from IPython.display import HTML\n",
    "style = '<style>svg{wight:70% !importtant;height: 70% !important;}</style>'\n",
    "HTML(style)"
   ],
   "metadata": {
    "collapsed": false,
    "pycharm": {
     "name": "#%%\n"
    }
   }
  },
  {
   "cell_type": "code",
   "execution_count": 2,
   "outputs": [],
   "source": [
    "vibration = pd.read_csv('../data/Vodnik_VIBR.csv', index_col=0, sep=';')\n",
    "frequency = pd.read_csv('../data/Vodnik_frequency.csv', index_col=0, sep=';')\n",
    "vodnik_left_bak1 = pd.read_csv('../data/Vodnik_left_bak_1.csv', index_col=0, sep=';')\n",
    "vodnik_left_bak2 = pd.read_csv('../data/Vodnik_left_bak_2.csv', index_col=0, sep=';')\n",
    "vodnik_left_bak3 = pd.read_csv('../data/Vodnik_left_bak_3.csv', index_col=0, sep=';')\n",
    "vodnik_left_bak4 = pd.read_csv('../data/Vodnik_left_bak_4.csv', index_col=0, sep=';')\n",
    "vodnik_left_bak5 = pd.read_csv('../data/Vodnik_left_bak_5.csv', index_col=0, sep=';')\n",
    "vodnik_left_bak6 = pd.read_csv('../data/Vodnik_left_bak_6.csv', index_col=0, sep=';')\n",
    "vodnik_left_bak7 = pd.read_csv('../data/Vodnik_left_bak_7.csv', index_col=0, sep=';')\n",
    "vodnik_right_bak1 = pd.read_csv('../data/Vodnik_right_bak_1.csv', index_col=0, sep=';')\n",
    "vodnik_right_bak2 = pd.read_csv('../data/Vodnik_right_bak_2.csv', index_col=0, sep=';')\n",
    "vodnik_right_bak3 = pd.read_csv('../data/Vodnik_right_bak_3.csv', index_col=0, sep=';')\n",
    "vodnik_right_bak41 = pd.read_csv('../data/Vodnik_right_bak_4.1.csv', index_col=0, sep=';')\n",
    "vodnik_right_bak42 = pd.read_csv('../data/Vodnik_right_bak_4.2.csv', index_col=0, sep=';')\n",
    "vodnik_right_bak5 = pd.read_csv('../data/Vodnik_right_bak_5.csv', index_col=0, sep=';')\n",
    "vodnik_right_bak6 = pd.read_csv('../data/Vodnik_right_bak_6.csv', index_col=0, sep=';')"
   ],
   "metadata": {
    "collapsed": false,
    "pycharm": {
     "name": "#%%\n"
    }
   }
  },
  {
   "cell_type": "code",
   "execution_count": 2,
   "outputs": [],
   "source": [
    "\n",
    "vodnik_left_bak = pd.concat(\n",
    "    [vodnik_left_bak1, vodnik_left_bak2, vodnik_left_bak3, vodnik_left_bak4, vodnik_left_bak5, vodnik_left_bak6,\n",
    "     vodnik_left_bak7], ignore_index=False)\n",
    "\n",
    "vodnik_right_bak = pd.concat(\n",
    "    [vodnik_right_bak1, vodnik_right_bak2, vodnik_right_bak3, vodnik_right_bak41, vodnik_right_bak42, vodnik_right_bak5,\n",
    "     vodnik_right_bak6], ignore_index=False)\n",
    "\n",
    "vodnik_left_bak = vodnik_left_bak.rename(\n",
    "    columns={'Значение': 'values_left_bak', 'Состояние значения': 'values_state_left_bak'})\n",
    "vodnik_left_bak.head()\n",
    "vodnik_right_bak = vodnik_right_bak.rename(\n",
    "    columns={'Значение': 'values_right_bak', 'Состояние значения': 'values_state_right_bak'})\n",
    "vodnik_right_bak.head()\n",
    "vodnik_bak = pd.merge(vodnik_left_bak, vodnik_right_bak, on=[\"data_time\"], how=\"outer\",\n",
    "                      validate=\"many_to_many\").drop_duplicates()\n",
    "vodnik_bak.head()"
   ],
   "metadata": {
    "collapsed": false,
    "pycharm": {
     "name": "#%%\n"
    }
   }
  },
  {
   "cell_type": "code",
   "execution_count": 2,
   "outputs": [],
   "source": [
    "frequency = frequency.rename(columns={'Значение': 'values_frequency', 'Состояние значения': 'values_state_frequency'})\n",
    "frequency.head(100)\n",
    "vibration = vibration.rename(columns={'Значение': 'values_vibration', 'Состояние значения': 'values_state_vibration'})\n",
    "vibration.head(100)\n",
    "data1 = pd.merge(frequency, vibration, on=[\"data_time\"], how=\"outer\", validate=\"many_to_many\").drop_duplicates()\n",
    "speed = pd.read_csv('../data/Vodnik_speed.csv', index_col=0, sep=';')\n",
    "data2 = pd.merge(speed, data1, on=[\"data_time\"], how=\"outer\", validate=\"many_to_many\").drop_duplicates()\n",
    "data = pd.merge(data2, vodnik_bak, on=[\"data_time\"],how=\"outer\", validate=\"many_to_many\").drop_duplicates()\n",
    "data.shape"
   ],
   "metadata": {
    "collapsed": false,
    "pycharm": {
     "name": "#%%\n"
    }
   }
  },
  {
   "cell_type": "code",
   "execution_count": 2,
   "outputs": [],
   "source": [
    "data.head()"
   ],
   "metadata": {
    "collapsed": false,
    "pycharm": {
     "name": "#%%\n"
    }
   }
  },
  {
   "cell_type": "code",
   "execution_count": 2,
   "outputs": [],
   "source": [
    "data = data.rename(columns= {'Значение': 'values_speed', 'Состояние значения': 'values_state_speed'})\n",
    "data.shape"
   ],
   "metadata": {
    "collapsed": false,
    "pycharm": {
     "name": "#%%\n"
    }
   }
  },
  {
   "cell_type": "code",
   "execution_count": 2,
   "outputs": [],
   "source": [
    "data = data.fillna('0')\n",
    "data.shape"
   ],
   "metadata": {
    "collapsed": false,
    "pycharm": {
     "name": "#%%\n"
    }
   }
  },
  {
   "cell_type": "code",
   "execution_count": 3,
   "outputs": [
    {
     "ename": "NameError",
     "evalue": "name 'data' is not defined",
     "output_type": "error",
     "traceback": [
      "\u001B[0;31m---------------------------------------------------------------------------\u001B[0m",
      "\u001B[0;31mNameError\u001B[0m                                 Traceback (most recent call last)",
      "Input \u001B[0;32mIn [3]\u001B[0m, in \u001B[0;36m<cell line: 1>\u001B[0;34m()\u001B[0m\n\u001B[0;32m----> 1\u001B[0m data\u001B[38;5;241m.\u001B[39mvalues_vibration \u001B[38;5;241m=\u001B[39m [x\u001B[38;5;241m.\u001B[39mreplace(\u001B[38;5;124m'\u001B[39m\u001B[38;5;124m,\u001B[39m\u001B[38;5;124m'\u001B[39m, \u001B[38;5;124m'\u001B[39m\u001B[38;5;124m.\u001B[39m\u001B[38;5;124m'\u001B[39m) \u001B[38;5;28;01mfor\u001B[39;00m x \u001B[38;5;129;01min\u001B[39;00m \u001B[43mdata\u001B[49m\u001B[38;5;241m.\u001B[39mvalues_vibration]\n\u001B[1;32m      2\u001B[0m data\u001B[38;5;241m.\u001B[39mvalues_frequency \u001B[38;5;241m=\u001B[39m [x\u001B[38;5;241m.\u001B[39mreplace(\u001B[38;5;124m'\u001B[39m\u001B[38;5;124m,\u001B[39m\u001B[38;5;124m'\u001B[39m, \u001B[38;5;124m'\u001B[39m\u001B[38;5;124m.\u001B[39m\u001B[38;5;124m'\u001B[39m) \u001B[38;5;28;01mfor\u001B[39;00m x \u001B[38;5;129;01min\u001B[39;00m data\u001B[38;5;241m.\u001B[39mvalues_frequency]\n\u001B[1;32m      3\u001B[0m data\u001B[38;5;241m.\u001B[39mvalues_speed \u001B[38;5;241m=\u001B[39m [x\u001B[38;5;241m.\u001B[39mreplace(\u001B[38;5;124m'\u001B[39m\u001B[38;5;124m,\u001B[39m\u001B[38;5;124m'\u001B[39m, \u001B[38;5;124m'\u001B[39m\u001B[38;5;124m.\u001B[39m\u001B[38;5;124m'\u001B[39m) \u001B[38;5;28;01mfor\u001B[39;00m x \u001B[38;5;129;01min\u001B[39;00m data\u001B[38;5;241m.\u001B[39mvalues_speed]\n",
      "\u001B[0;31mNameError\u001B[0m: name 'data' is not defined"
     ]
    }
   ],
   "source": [
    "data.values_vibration = [x.replace(',', '.') for x in data.values_vibration]\n",
    "data.values_frequency = [x.replace(',', '.') for x in data.values_frequency]\n",
    "data.values_speed = [x.replace(',', '.') for x in data.values_speed]\n",
    "data.values_left_bak = [x.replace(',', '.') for x in data.values_left_bak]\n",
    "data.values_right_bak = [x.replace(',', '.') for x in data.values_right_bak]\n",
    "\n",
    "data.values_vibration = data.values_vibration.astype(float)\n",
    "data.values_frequency = data.values_frequency.astype(float)\n",
    "data.values_speed = data.values_speed.astype(float)\n",
    "data.values_left_bak = data.values_left_bak.astype(float)\n",
    "data.values_right_bak = data.values_right_bak.astype(float)"
   ],
   "metadata": {
    "collapsed": false,
    "pycharm": {
     "name": "#%%\n"
    }
   }
  },
  {
   "cell_type": "code",
   "execution_count": 4,
   "outputs": [
    {
     "ename": "NameError",
     "evalue": "name 'data' is not defined",
     "output_type": "error",
     "traceback": [
      "\u001B[0;31m---------------------------------------------------------------------------\u001B[0m",
      "\u001B[0;31mNameError\u001B[0m                                 Traceback (most recent call last)",
      "Input \u001B[0;32mIn [4]\u001B[0m, in \u001B[0;36m<cell line: 1>\u001B[0;34m()\u001B[0m\n\u001B[0;32m----> 1\u001B[0m \u001B[43mdata\u001B[49m\u001B[38;5;241m.\u001B[39mhead()\n",
      "\u001B[0;31mNameError\u001B[0m: name 'data' is not defined"
     ]
    }
   ],
   "source": [
    "data.head()"
   ],
   "metadata": {
    "collapsed": false,
    "pycharm": {
     "name": "#%%\n"
    }
   }
  },
  {
   "cell_type": "code",
   "execution_count": 1,
   "outputs": [
    {
     "ename": "NameError",
     "evalue": "name 'data' is not defined",
     "output_type": "error",
     "traceback": [
      "\u001B[0;31m---------------------------------------------------------------------------\u001B[0m",
      "\u001B[0;31mNameError\u001B[0m                                 Traceback (most recent call last)",
      "Input \u001B[0;32mIn [1]\u001B[0m, in \u001B[0;36m<cell line: 1>\u001B[0;34m()\u001B[0m\n\u001B[0;32m----> 1\u001B[0m \u001B[43mdata\u001B[49m\u001B[38;5;241m.\u001B[39mloc[(data\u001B[38;5;241m.\u001B[39mvalues_state_frequency \u001B[38;5;241m==\u001B[39m \u001B[38;5;124m'\u001B[39m\u001B[38;5;124m0\u001B[39m\u001B[38;5;124m'\u001B[39m), \u001B[38;5;124m'\u001B[39m\u001B[38;5;124mvalues_state_frequency\u001B[39m\u001B[38;5;124m'\u001B[39m] \u001B[38;5;241m=\u001B[39m \u001B[38;5;124m'\u001B[39m\u001B[38;5;124mнорма\u001B[39m\u001B[38;5;124m'\u001B[39m\n\u001B[1;32m      2\u001B[0m data\u001B[38;5;241m.\u001B[39mloc[(data\u001B[38;5;241m.\u001B[39mvalues_state_vibration \u001B[38;5;241m==\u001B[39m \u001B[38;5;124m'\u001B[39m\u001B[38;5;124m0\u001B[39m\u001B[38;5;124m'\u001B[39m), \u001B[38;5;124m'\u001B[39m\u001B[38;5;124mvalues_state_vibration\u001B[39m\u001B[38;5;124m'\u001B[39m] \u001B[38;5;241m=\u001B[39m \u001B[38;5;124m'\u001B[39m\u001B[38;5;124mнорма\u001B[39m\u001B[38;5;124m'\u001B[39m\n\u001B[1;32m      3\u001B[0m data\u001B[38;5;241m.\u001B[39mloc[(data\u001B[38;5;241m.\u001B[39mvalues_state_speed \u001B[38;5;241m==\u001B[39m \u001B[38;5;124m'\u001B[39m\u001B[38;5;124m0\u001B[39m\u001B[38;5;124m'\u001B[39m), \u001B[38;5;124m'\u001B[39m\u001B[38;5;124mvalues_state_speed\u001B[39m\u001B[38;5;124m'\u001B[39m] \u001B[38;5;241m=\u001B[39m \u001B[38;5;124m'\u001B[39m\u001B[38;5;124mнорма\u001B[39m\u001B[38;5;124m'\u001B[39m\n",
      "\u001B[0;31mNameError\u001B[0m: name 'data' is not defined"
     ]
    }
   ],
   "source": [
    "data.loc[(data.values_state_frequency == '0'), 'values_state_frequency'] = 'норма'\n",
    "data.loc[(data.values_state_vibration == '0'), 'values_state_vibration'] = 'норма'\n",
    "data.loc[(data.values_state_speed == '0'), 'values_state_speed'] = 'норма'\n",
    "data.loc[(data.values_state_left_bak == '0'), 'values_state_left_bak'] = 'норма'\n",
    "data.loc[(data.values_state_right_bak == '0'), 'values_state_right_bak'] = 'норма'\n",
    "data.head(400000)"
   ],
   "metadata": {
    "collapsed": false,
    "pycharm": {
     "name": "#%%\n"
    }
   }
  },
  {
   "cell_type": "code",
   "execution_count": 2,
   "outputs": [
    {
     "ename": "NameError",
     "evalue": "name 'data' is not defined",
     "output_type": "error",
     "traceback": [
      "\u001B[0;31m---------------------------------------------------------------------------\u001B[0m",
      "\u001B[0;31mNameError\u001B[0m                                 Traceback (most recent call last)",
      "Input \u001B[0;32mIn [2]\u001B[0m, in \u001B[0;36m<cell line: 2>\u001B[0;34m()\u001B[0m\n\u001B[1;32m      1\u001B[0m \u001B[38;5;66;03m# уберем выбросы\u001B[39;00m\n\u001B[0;32m----> 2\u001B[0m \u001B[43mdata\u001B[49m\u001B[38;5;241m.\u001B[39mloc[(data\u001B[38;5;241m.\u001B[39mvalues_left_bak \u001B[38;5;241m>\u001B[39m \u001B[38;5;241m100000\u001B[39m), \u001B[38;5;124m'\u001B[39m\u001B[38;5;124mvalues_left_bak\u001B[39m\u001B[38;5;124m'\u001B[39m] \u001B[38;5;241m=\u001B[39m \u001B[38;5;241m0\u001B[39m\n\u001B[1;32m      3\u001B[0m data\u001B[38;5;241m.\u001B[39mloc[(data\u001B[38;5;241m.\u001B[39mvalues_right_bak \u001B[38;5;241m>\u001B[39m \u001B[38;5;241m100000\u001B[39m), \u001B[38;5;124m'\u001B[39m\u001B[38;5;124mvalues_right_bak\u001B[39m\u001B[38;5;124m'\u001B[39m] \u001B[38;5;241m=\u001B[39m \u001B[38;5;241m0\u001B[39m\n\u001B[1;32m      4\u001B[0m \u001B[38;5;66;03m# уберем выбросы\u001B[39;00m\n",
      "\u001B[0;31mNameError\u001B[0m: name 'data' is not defined"
     ]
    }
   ],
   "source": [
    "# уберем выбросы\n",
    "data.loc[(data.values_left_bak > 100000), 'values_left_bak'] = 0\n",
    "data.loc[(data.values_right_bak > 100000), 'values_right_bak'] = 0\n",
    "# уберем выбросы\n",
    "data.loc[(data.values_vibration > 50), 'values_vibration'] = 0"
   ],
   "metadata": {
    "collapsed": false,
    "pycharm": {
     "name": "#%%\n"
    }
   }
  },
  {
   "cell_type": "code",
   "execution_count": 3,
   "outputs": [
    {
     "ename": "NameError",
     "evalue": "name 'data' is not defined",
     "output_type": "error",
     "traceback": [
      "\u001B[0;31m---------------------------------------------------------------------------\u001B[0m",
      "\u001B[0;31mNameError\u001B[0m                                 Traceback (most recent call last)",
      "Input \u001B[0;32mIn [3]\u001B[0m, in \u001B[0;36m<cell line: 1>\u001B[0;34m()\u001B[0m\n\u001B[0;32m----> 1\u001B[0m \u001B[43mdata\u001B[49m\u001B[38;5;241m.\u001B[39mplot(kind\u001B[38;5;241m=\u001B[39m\u001B[38;5;124m'\u001B[39m\u001B[38;5;124mline\u001B[39m\u001B[38;5;124m'\u001B[39m)\n",
      "\u001B[0;31mNameError\u001B[0m: name 'data' is not defined"
     ]
    }
   ],
   "source": [
    "data.plot(kind='line')   ############################"
   ],
   "metadata": {
    "collapsed": false,
    "pycharm": {
     "name": "#%%\n"
    }
   }
  },
  {
   "cell_type": "code",
   "execution_count": 4,
   "outputs": [
    {
     "ename": "NameError",
     "evalue": "name 'data' is not defined",
     "output_type": "error",
     "traceback": [
      "\u001B[0;31m---------------------------------------------------------------------------\u001B[0m",
      "\u001B[0;31mNameError\u001B[0m                                 Traceback (most recent call last)",
      "Input \u001B[0;32mIn [4]\u001B[0m, in \u001B[0;36m<cell line: 1>\u001B[0;34m()\u001B[0m\n\u001B[0;32m----> 1\u001B[0m \u001B[38;5;28mprint\u001B[39m(\u001B[43mdata\u001B[49m\u001B[38;5;241m.\u001B[39mvalues_vibration\u001B[38;5;241m.\u001B[39mmax())\n\u001B[1;32m      2\u001B[0m \u001B[38;5;28mprint\u001B[39m(data\u001B[38;5;241m.\u001B[39mvalues_right_bak\u001B[38;5;241m.\u001B[39mmax())\n\u001B[1;32m      3\u001B[0m \u001B[38;5;28mprint\u001B[39m(data\u001B[38;5;241m.\u001B[39mvalues_left_bak\u001B[38;5;241m.\u001B[39mmax())\n",
      "\u001B[0;31mNameError\u001B[0m: name 'data' is not defined"
     ]
    }
   ],
   "source": [
    "print(data.values_vibration.max())\n",
    "print(data.values_right_bak.max())\n",
    "print(data.values_left_bak.max())\n",
    "print(data.values_speed.max())\n",
    "print(data.values_frequency.max())"
   ],
   "metadata": {
    "collapsed": false,
    "pycharm": {
     "name": "#%%\n"
    }
   }
  },
  {
   "cell_type": "code",
   "execution_count": 5,
   "outputs": [
    {
     "ename": "NameError",
     "evalue": "name 'np' is not defined",
     "output_type": "error",
     "traceback": [
      "\u001B[0;31m---------------------------------------------------------------------------\u001B[0m",
      "\u001B[0;31mNameError\u001B[0m                                 Traceback (most recent call last)",
      "Input \u001B[0;32mIn [5]\u001B[0m, in \u001B[0;36m<cell line: 2>\u001B[0;34m()\u001B[0m\n\u001B[1;32m      1\u001B[0m \u001B[38;5;66;03m#data.state = np.where(data.values_speed > 0, 'values_speed')\u001B[39;00m\n\u001B[0;32m----> 2\u001B[0m data[\u001B[38;5;124m'\u001B[39m\u001B[38;5;124mstate\u001B[39m\u001B[38;5;124m'\u001B[39m] \u001B[38;5;241m=\u001B[39m \u001B[43mnp\u001B[49m\u001B[38;5;241m.\u001B[39mwhere(data\u001B[38;5;241m.\u001B[39mvalues_speed \u001B[38;5;241m>\u001B[39m \u001B[38;5;241m0\u001B[39m, \u001B[38;5;124m'\u001B[39m\u001B[38;5;124mmovement\u001B[39m\u001B[38;5;124m'\u001B[39m, \u001B[38;5;124m'\u001B[39m\u001B[38;5;124mstatement\u001B[39m\u001B[38;5;124m'\u001B[39m)\n\u001B[1;32m      3\u001B[0m \u001B[38;5;66;03m#data.loc[11, state] = smoothedMeanValues\u001B[39;00m\n\u001B[1;32m      4\u001B[0m data[\u001B[38;5;124m'\u001B[39m\u001B[38;5;124mstate_boat\u001B[39m\u001B[38;5;124m'\u001B[39m] \u001B[38;5;241m=\u001B[39m np\u001B[38;5;241m.\u001B[39mwhere(\n\u001B[1;32m      5\u001B[0m     (data\u001B[38;5;241m.\u001B[39mvalues_state_vibration \u001B[38;5;241m==\u001B[39m \u001B[38;5;124m'\u001B[39m\u001B[38;5;124mаварийно высокое\u001B[39m\u001B[38;5;124m'\u001B[39m) \u001B[38;5;241m|\u001B[39m (data\u001B[38;5;241m.\u001B[39mvalues_state_speed \u001B[38;5;241m==\u001B[39m \u001B[38;5;124m'\u001B[39m\u001B[38;5;124mаварийно высокое\u001B[39m\u001B[38;5;124m'\u001B[39m) \u001B[38;5;241m|\u001B[39m (\n\u001B[1;32m      6\u001B[0m                 data\u001B[38;5;241m.\u001B[39mvalues_state_frequency \u001B[38;5;241m==\u001B[39m \u001B[38;5;124m'\u001B[39m\u001B[38;5;124mаварийно высокое\u001B[39m\u001B[38;5;124m'\u001B[39m) \u001B[38;5;241m|\u001B[39m (\n\u001B[1;32m      7\u001B[0m                 data\u001B[38;5;241m.\u001B[39mvalues_state_left_bak \u001B[38;5;241m==\u001B[39m \u001B[38;5;124m'\u001B[39m\u001B[38;5;124mаварийно высокое\u001B[39m\u001B[38;5;124m'\u001B[39m) \u001B[38;5;241m|\u001B[39m (data\u001B[38;5;241m.\u001B[39mvalues_state_right_bak \u001B[38;5;241m==\u001B[39m \u001B[38;5;124m'\u001B[39m\u001B[38;5;124mаварийно высокое\u001B[39m\u001B[38;5;124m'\u001B[39m),\n\u001B[1;32m      8\u001B[0m     \u001B[38;5;124m'\u001B[39m\u001B[38;5;124mаварийно высокое\u001B[39m\u001B[38;5;124m'\u001B[39m, \u001B[38;5;124m'\u001B[39m\u001B[38;5;124mнорма\u001B[39m\u001B[38;5;124m'\u001B[39m)\n",
      "\u001B[0;31mNameError\u001B[0m: name 'np' is not defined"
     ]
    }
   ],
   "source": [
    "#data.state = np.where(data.values_speed > 0, 'values_speed')\n",
    "data['state'] = np.where(data.values_speed > 0, 'movement', 'statement')\n",
    "#data.loc[11, state] = smoothedMeanValues\n",
    "data['state_boat'] = np.where(\n",
    "    (data.values_state_vibration == 'аварийно высокое') | (data.values_state_speed == 'аварийно высокое') | (\n",
    "                data.values_state_frequency == 'аварийно высокое') | (\n",
    "                data.values_state_left_bak == 'аварийно высокое') | (data.values_state_right_bak == 'аварийно высокое'),\n",
    "    'аварийно высокое', 'норма')\n",
    "data.head(10000)"
   ],
   "metadata": {
    "collapsed": false,
    "pycharm": {
     "name": "#%%\n"
    }
   }
  },
  {
   "cell_type": "code",
   "execution_count": null,
   "outputs": [],
   "source": [
    "# Сохраняем полученные значения\n",
    "data.to_csv('../data/data.csv')"
   ],
   "metadata": {
    "collapsed": false,
    "pycharm": {
     "name": "#%%\n"
    }
   }
  }
 ],
 "metadata": {
  "kernelspec": {
   "display_name": "Python 3",
   "language": "python",
   "name": "python3"
  },
  "language_info": {
   "codemirror_mode": {
    "name": "ipython",
    "version": 2
   },
   "file_extension": ".py",
   "mimetype": "text/x-python",
   "name": "python",
   "nbconvert_exporter": "python",
   "pygments_lexer": "ipython2",
   "version": "2.7.6"
  }
 },
 "nbformat": 4,
 "nbformat_minor": 0
}