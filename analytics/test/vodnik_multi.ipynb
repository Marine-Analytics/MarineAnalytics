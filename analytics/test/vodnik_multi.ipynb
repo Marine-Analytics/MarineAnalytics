{
 "cells": [
  {
   "cell_type": "code",
   "execution_count": 1,
   "outputs": [],
   "source": [
    "#  https://scikit-learn.org/stable/modules/model_evaluation.html\n",
    "#import iris as iris\n",
    "import graphviz\n",
    "from sklearn import tree\n",
    "import pandas as pd\n",
    "import matplotlib.pyplot as plt\n",
    "import seaborn as sns\n",
    "import numpy as nm\n",
    "from sklearn.model_selection import train_test_split\n",
    "%matplotlib inline"
   ],
   "metadata": {
    "collapsed": false,
    "pycharm": {
     "name": "#%%\n"
    }
   }
  },
  {
   "cell_type": "code",
   "execution_count": 2,
   "outputs": [],
   "source": [
    "from IPython.display import SVG\n",
    "from graphviz import Source\n",
    "from IPython.display import display"
   ],
   "metadata": {
    "collapsed": false,
    "pycharm": {
     "name": "#%%\n"
    }
   }
  },
  {
   "cell_type": "code",
   "execution_count": 3,
   "outputs": [
    {
     "data": {
      "text/plain": "<IPython.core.display.HTML object>",
      "text/html": "<style>svg{width:70% !important;height:70% !important;}</style>"
     },
     "execution_count": 3,
     "metadata": {},
     "output_type": "execute_result"
    }
   ],
   "source": [
    "from IPython.display import SVG\n",
    "from graphviz import Source\n",
    "from IPython.display import display\n",
    "from IPython.display import HTML\n",
    "style = '<style>svg{width:70% !important;height:70% !important;}</style>'\n",
    "HTML(style)"
   ],
   "metadata": {
    "collapsed": false,
    "pycharm": {
     "name": "#%%\n"
    }
   }
  },
  {
   "cell_type": "code",
   "execution_count": 4,
   "outputs": [],
   "source": [
    "vibration = pd.read_csv('../data/Vodnik_VIBR.csv', index_col=0, sep=';')"
   ],
   "metadata": {
    "collapsed": false,
    "pycharm": {
     "name": "#%%\n"
    }
   }
  },
  {
   "cell_type": "code",
   "execution_count": 5,
   "outputs": [
    {
     "data": {
      "text/plain": "                     Значение Состояние значения\ndata_time                                       \n14.04.2022 17:42  7,274764787              норма\n14.04.2022 17:42  7,274764787              норма\n14.04.2022 17:43   7,27590385              норма\n14.04.2022 17:43   7,27590385              норма\n14.04.2022 17:43   7,27590385              норма",
      "text/html": "<div>\n<style scoped>\n    .dataframe tbody tr th:only-of-type {\n        vertical-align: middle;\n    }\n\n    .dataframe tbody tr th {\n        vertical-align: top;\n    }\n\n    .dataframe thead th {\n        text-align: right;\n    }\n</style>\n<table border=\"1\" class=\"dataframe\">\n  <thead>\n    <tr style=\"text-align: right;\">\n      <th></th>\n      <th>Значение</th>\n      <th>Состояние значения</th>\n    </tr>\n    <tr>\n      <th>data_time</th>\n      <th></th>\n      <th></th>\n    </tr>\n  </thead>\n  <tbody>\n    <tr>\n      <th>14.04.2022 17:42</th>\n      <td>7,274764787</td>\n      <td>норма</td>\n    </tr>\n    <tr>\n      <th>14.04.2022 17:42</th>\n      <td>7,274764787</td>\n      <td>норма</td>\n    </tr>\n    <tr>\n      <th>14.04.2022 17:43</th>\n      <td>7,27590385</td>\n      <td>норма</td>\n    </tr>\n    <tr>\n      <th>14.04.2022 17:43</th>\n      <td>7,27590385</td>\n      <td>норма</td>\n    </tr>\n    <tr>\n      <th>14.04.2022 17:43</th>\n      <td>7,27590385</td>\n      <td>норма</td>\n    </tr>\n  </tbody>\n</table>\n</div>"
     },
     "execution_count": 5,
     "metadata": {},
     "output_type": "execute_result"
    }
   ],
   "source": [
    "vibration.head()"
   ],
   "metadata": {
    "collapsed": false,
    "pycharm": {
     "name": "#%%\n"
    }
   }
  },
  {
   "cell_type": "code",
   "execution_count": 6,
   "outputs": [],
   "source": [
    "frequency = pd.read_csv('../data/Vodnik_frequency.csv', index_col=0, sep=';')"
   ],
   "metadata": {
    "collapsed": false,
    "pycharm": {
     "name": "#%%\n"
    }
   }
  },
  {
   "cell_type": "code",
   "execution_count": 7,
   "outputs": [
    {
     "data": {
      "text/plain": "(45090, 2)"
     },
     "execution_count": 7,
     "metadata": {},
     "output_type": "execute_result"
    }
   ],
   "source": [
    "# Переименовать столбец\n",
    "frequency = frequency.rename(columns= {'Значение': 'values_frequency', 'Состояние значения': 'values_state_frequency'})\n",
    "frequency.head(100)\n",
    "frequency.shape"
   ],
   "metadata": {
    "collapsed": false,
    "pycharm": {
     "name": "#%%\n"
    }
   }
  },
  {
   "cell_type": "code",
   "execution_count": 8,
   "outputs": [
    {
     "data": {
      "text/plain": "(47787, 2)"
     },
     "execution_count": 8,
     "metadata": {},
     "output_type": "execute_result"
    }
   ],
   "source": [
    "# Переименовать столбец\n",
    "vibration = vibration.rename(columns= {'Значение': 'values_vibration', 'Состояние значения': 'values_state_vibration'})\n",
    "vibration.head(100)\n",
    "vibration.shape"
   ],
   "metadata": {
    "collapsed": false,
    "pycharm": {
     "name": "#%%\n"
    }
   }
  },
  {
   "cell_type": "code",
   "execution_count": 9,
   "outputs": [
    {
     "data": {
      "text/plain": "(45202, 4)"
     },
     "execution_count": 9,
     "metadata": {},
     "output_type": "execute_result"
    }
   ],
   "source": [
    "data = pd.merge(frequency, vibration, on=[\"data_time\"],how=\"outer\", validate=\"many_to_many\").drop_duplicates()\n",
    "data.shape"
   ],
   "metadata": {
    "collapsed": false,
    "pycharm": {
     "name": "#%%\n"
    }
   }
  },
  {
   "cell_type": "code",
   "execution_count": 10,
   "outputs": [
    {
     "data": {
      "text/plain": "                 values_frequency values_state_frequency values_vibration  \\\ndata_time                                                                   \n14.04.2022 17:42                0                  норма      7,274764787   \n14.04.2022 17:43                0                  норма       7,27590385   \n14.04.2022 17:43                0                  норма      7,276366891   \n14.04.2022 17:44      14259,75952       аварийно высокое      7,261320221   \n14.04.2022 17:44      14259,75952       аварийно высокое      7,276366891   \n...                           ...                    ...              ...   \n03.06.2022 10:29              NaN                    NaN      24,30559369   \n03.06.2022 10:31              NaN                    NaN      24,85656221   \n03.06.2022 11:25              NaN                    NaN      13,07223977   \n03.06.2022 11:33              NaN                    NaN      7,217856471   \n03.06.2022 14:28              NaN                    NaN                0   \n\n                 values_state_vibration  \ndata_time                                \n14.04.2022 17:42                  норма  \n14.04.2022 17:43                  норма  \n14.04.2022 17:43                  норма  \n14.04.2022 17:44                  норма  \n14.04.2022 17:44                  норма  \n...                                 ...  \n03.06.2022 10:29                  норма  \n03.06.2022 10:31                  норма  \n03.06.2022 11:25                  норма  \n03.06.2022 11:33                  норма  \n03.06.2022 14:28                  норма  \n\n[45202 rows x 4 columns]",
      "text/html": "<div>\n<style scoped>\n    .dataframe tbody tr th:only-of-type {\n        vertical-align: middle;\n    }\n\n    .dataframe tbody tr th {\n        vertical-align: top;\n    }\n\n    .dataframe thead th {\n        text-align: right;\n    }\n</style>\n<table border=\"1\" class=\"dataframe\">\n  <thead>\n    <tr style=\"text-align: right;\">\n      <th></th>\n      <th>values_frequency</th>\n      <th>values_state_frequency</th>\n      <th>values_vibration</th>\n      <th>values_state_vibration</th>\n    </tr>\n    <tr>\n      <th>data_time</th>\n      <th></th>\n      <th></th>\n      <th></th>\n      <th></th>\n    </tr>\n  </thead>\n  <tbody>\n    <tr>\n      <th>14.04.2022 17:42</th>\n      <td>0</td>\n      <td>норма</td>\n      <td>7,274764787</td>\n      <td>норма</td>\n    </tr>\n    <tr>\n      <th>14.04.2022 17:43</th>\n      <td>0</td>\n      <td>норма</td>\n      <td>7,27590385</td>\n      <td>норма</td>\n    </tr>\n    <tr>\n      <th>14.04.2022 17:43</th>\n      <td>0</td>\n      <td>норма</td>\n      <td>7,276366891</td>\n      <td>норма</td>\n    </tr>\n    <tr>\n      <th>14.04.2022 17:44</th>\n      <td>14259,75952</td>\n      <td>аварийно высокое</td>\n      <td>7,261320221</td>\n      <td>норма</td>\n    </tr>\n    <tr>\n      <th>14.04.2022 17:44</th>\n      <td>14259,75952</td>\n      <td>аварийно высокое</td>\n      <td>7,276366891</td>\n      <td>норма</td>\n    </tr>\n    <tr>\n      <th>...</th>\n      <td>...</td>\n      <td>...</td>\n      <td>...</td>\n      <td>...</td>\n    </tr>\n    <tr>\n      <th>03.06.2022 10:29</th>\n      <td>NaN</td>\n      <td>NaN</td>\n      <td>24,30559369</td>\n      <td>норма</td>\n    </tr>\n    <tr>\n      <th>03.06.2022 10:31</th>\n      <td>NaN</td>\n      <td>NaN</td>\n      <td>24,85656221</td>\n      <td>норма</td>\n    </tr>\n    <tr>\n      <th>03.06.2022 11:25</th>\n      <td>NaN</td>\n      <td>NaN</td>\n      <td>13,07223977</td>\n      <td>норма</td>\n    </tr>\n    <tr>\n      <th>03.06.2022 11:33</th>\n      <td>NaN</td>\n      <td>NaN</td>\n      <td>7,217856471</td>\n      <td>норма</td>\n    </tr>\n    <tr>\n      <th>03.06.2022 14:28</th>\n      <td>NaN</td>\n      <td>NaN</td>\n      <td>0</td>\n      <td>норма</td>\n    </tr>\n  </tbody>\n</table>\n<p>45202 rows × 4 columns</p>\n</div>"
     },
     "execution_count": 10,
     "metadata": {},
     "output_type": "execute_result"
    }
   ],
   "source": [
    "data.head(100000)\n",
    "# Проверка даты"
   ],
   "metadata": {
    "collapsed": false,
    "pycharm": {
     "name": "#%%\n"
    }
   }
  },
  {
   "cell_type": "code",
   "execution_count": 11,
   "outputs": [
    {
     "data": {
      "text/plain": "                 values_frequency values_state_frequency values_vibration  \\\ndata_time                                                                   \n14.04.2022 17:42                0                  норма      7,274764787   \n14.04.2022 17:43                0                  норма       7,27590385   \n14.04.2022 17:43                0                  норма      7,276366891   \n14.04.2022 17:44      14259,75952       аварийно высокое      7,261320221   \n14.04.2022 17:44      14259,75952       аварийно высокое      7,276366891   \n...                           ...                    ...              ...   \n03.06.2022 10:29                0                      0      24,30559369   \n03.06.2022 10:31                0                      0      24,85656221   \n03.06.2022 11:25                0                      0      13,07223977   \n03.06.2022 11:33                0                      0      7,217856471   \n03.06.2022 14:28                0                      0                0   \n\n                 values_state_vibration  \ndata_time                                \n14.04.2022 17:42                  норма  \n14.04.2022 17:43                  норма  \n14.04.2022 17:43                  норма  \n14.04.2022 17:44                  норма  \n14.04.2022 17:44                  норма  \n...                                 ...  \n03.06.2022 10:29                  норма  \n03.06.2022 10:31                  норма  \n03.06.2022 11:25                  норма  \n03.06.2022 11:33                  норма  \n03.06.2022 14:28                  норма  \n\n[45202 rows x 4 columns]",
      "text/html": "<div>\n<style scoped>\n    .dataframe tbody tr th:only-of-type {\n        vertical-align: middle;\n    }\n\n    .dataframe tbody tr th {\n        vertical-align: top;\n    }\n\n    .dataframe thead th {\n        text-align: right;\n    }\n</style>\n<table border=\"1\" class=\"dataframe\">\n  <thead>\n    <tr style=\"text-align: right;\">\n      <th></th>\n      <th>values_frequency</th>\n      <th>values_state_frequency</th>\n      <th>values_vibration</th>\n      <th>values_state_vibration</th>\n    </tr>\n    <tr>\n      <th>data_time</th>\n      <th></th>\n      <th></th>\n      <th></th>\n      <th></th>\n    </tr>\n  </thead>\n  <tbody>\n    <tr>\n      <th>14.04.2022 17:42</th>\n      <td>0</td>\n      <td>норма</td>\n      <td>7,274764787</td>\n      <td>норма</td>\n    </tr>\n    <tr>\n      <th>14.04.2022 17:43</th>\n      <td>0</td>\n      <td>норма</td>\n      <td>7,27590385</td>\n      <td>норма</td>\n    </tr>\n    <tr>\n      <th>14.04.2022 17:43</th>\n      <td>0</td>\n      <td>норма</td>\n      <td>7,276366891</td>\n      <td>норма</td>\n    </tr>\n    <tr>\n      <th>14.04.2022 17:44</th>\n      <td>14259,75952</td>\n      <td>аварийно высокое</td>\n      <td>7,261320221</td>\n      <td>норма</td>\n    </tr>\n    <tr>\n      <th>14.04.2022 17:44</th>\n      <td>14259,75952</td>\n      <td>аварийно высокое</td>\n      <td>7,276366891</td>\n      <td>норма</td>\n    </tr>\n    <tr>\n      <th>...</th>\n      <td>...</td>\n      <td>...</td>\n      <td>...</td>\n      <td>...</td>\n    </tr>\n    <tr>\n      <th>03.06.2022 10:29</th>\n      <td>0</td>\n      <td>0</td>\n      <td>24,30559369</td>\n      <td>норма</td>\n    </tr>\n    <tr>\n      <th>03.06.2022 10:31</th>\n      <td>0</td>\n      <td>0</td>\n      <td>24,85656221</td>\n      <td>норма</td>\n    </tr>\n    <tr>\n      <th>03.06.2022 11:25</th>\n      <td>0</td>\n      <td>0</td>\n      <td>13,07223977</td>\n      <td>норма</td>\n    </tr>\n    <tr>\n      <th>03.06.2022 11:33</th>\n      <td>0</td>\n      <td>0</td>\n      <td>7,217856471</td>\n      <td>норма</td>\n    </tr>\n    <tr>\n      <th>03.06.2022 14:28</th>\n      <td>0</td>\n      <td>0</td>\n      <td>0</td>\n      <td>норма</td>\n    </tr>\n  </tbody>\n</table>\n<p>45202 rows × 4 columns</p>\n</div>"
     },
     "execution_count": 11,
     "metadata": {},
     "output_type": "execute_result"
    }
   ],
   "source": [
    "# Все значения nan = 0\n",
    "data = data.fillna('0')\n",
    "data.head(100000)"
   ],
   "metadata": {
    "collapsed": false,
    "pycharm": {
     "name": "#%%\n"
    }
   }
  },
  {
   "cell_type": "code",
   "execution_count": 12,
   "outputs": [],
   "source": [
    "#X = pd.get_dummies(X) # строковые переменные преобразуются в числовые автоматически + два столбца\n",
    "for i in range(data.shape[0]):\n",
    "    data.values_vibration[i] = float(data.values_vibration[i].replace(',', '.'))\n",
    "    data.values_frequency[i] = float(data.values_frequency[i].replace(',', '.'))"
   ],
   "metadata": {
    "collapsed": false,
    "pycharm": {
     "name": "#%%\n"
    }
   }
  },
  {
   "cell_type": "code",
   "execution_count": 13,
   "outputs": [
    {
     "data": {
      "text/plain": "                 values_frequency values_state_frequency values_vibration  \\\ndata_time                                                                   \n14.04.2022 17:42              0.0                  норма         7.274765   \n14.04.2022 17:43              0.0                  норма         7.275904   \n14.04.2022 17:43              0.0                  норма         7.276367   \n14.04.2022 17:44      14259.75952       аварийно высокое          7.26132   \n14.04.2022 17:44      14259.75952       аварийно высокое         7.276367   \n...                           ...                    ...              ...   \n03.06.2022 10:29              0.0                  норма        24.305594   \n03.06.2022 10:31              0.0                  норма        24.856562   \n03.06.2022 11:25              0.0                  норма         13.07224   \n03.06.2022 11:33              0.0                  норма         7.217856   \n03.06.2022 14:28              0.0                  норма              0.0   \n\n                 values_state_vibration  \ndata_time                                \n14.04.2022 17:42                  норма  \n14.04.2022 17:43                  норма  \n14.04.2022 17:43                  норма  \n14.04.2022 17:44                  норма  \n14.04.2022 17:44                  норма  \n...                                 ...  \n03.06.2022 10:29                  норма  \n03.06.2022 10:31                  норма  \n03.06.2022 11:25                  норма  \n03.06.2022 11:33                  норма  \n03.06.2022 14:28                  норма  \n\n[45202 rows x 4 columns]",
      "text/html": "<div>\n<style scoped>\n    .dataframe tbody tr th:only-of-type {\n        vertical-align: middle;\n    }\n\n    .dataframe tbody tr th {\n        vertical-align: top;\n    }\n\n    .dataframe thead th {\n        text-align: right;\n    }\n</style>\n<table border=\"1\" class=\"dataframe\">\n  <thead>\n    <tr style=\"text-align: right;\">\n      <th></th>\n      <th>values_frequency</th>\n      <th>values_state_frequency</th>\n      <th>values_vibration</th>\n      <th>values_state_vibration</th>\n    </tr>\n    <tr>\n      <th>data_time</th>\n      <th></th>\n      <th></th>\n      <th></th>\n      <th></th>\n    </tr>\n  </thead>\n  <tbody>\n    <tr>\n      <th>14.04.2022 17:42</th>\n      <td>0.0</td>\n      <td>норма</td>\n      <td>7.274765</td>\n      <td>норма</td>\n    </tr>\n    <tr>\n      <th>14.04.2022 17:43</th>\n      <td>0.0</td>\n      <td>норма</td>\n      <td>7.275904</td>\n      <td>норма</td>\n    </tr>\n    <tr>\n      <th>14.04.2022 17:43</th>\n      <td>0.0</td>\n      <td>норма</td>\n      <td>7.276367</td>\n      <td>норма</td>\n    </tr>\n    <tr>\n      <th>14.04.2022 17:44</th>\n      <td>14259.75952</td>\n      <td>аварийно высокое</td>\n      <td>7.26132</td>\n      <td>норма</td>\n    </tr>\n    <tr>\n      <th>14.04.2022 17:44</th>\n      <td>14259.75952</td>\n      <td>аварийно высокое</td>\n      <td>7.276367</td>\n      <td>норма</td>\n    </tr>\n    <tr>\n      <th>...</th>\n      <td>...</td>\n      <td>...</td>\n      <td>...</td>\n      <td>...</td>\n    </tr>\n    <tr>\n      <th>03.06.2022 10:29</th>\n      <td>0.0</td>\n      <td>норма</td>\n      <td>24.305594</td>\n      <td>норма</td>\n    </tr>\n    <tr>\n      <th>03.06.2022 10:31</th>\n      <td>0.0</td>\n      <td>норма</td>\n      <td>24.856562</td>\n      <td>норма</td>\n    </tr>\n    <tr>\n      <th>03.06.2022 11:25</th>\n      <td>0.0</td>\n      <td>норма</td>\n      <td>13.07224</td>\n      <td>норма</td>\n    </tr>\n    <tr>\n      <th>03.06.2022 11:33</th>\n      <td>0.0</td>\n      <td>норма</td>\n      <td>7.217856</td>\n      <td>норма</td>\n    </tr>\n    <tr>\n      <th>03.06.2022 14:28</th>\n      <td>0.0</td>\n      <td>норма</td>\n      <td>0.0</td>\n      <td>норма</td>\n    </tr>\n  </tbody>\n</table>\n<p>45202 rows × 4 columns</p>\n</div>"
     },
     "execution_count": 13,
     "metadata": {},
     "output_type": "execute_result"
    }
   ],
   "source": [
    "# битые данные, но предположительно нормальные\n",
    "data.loc[(data.values_state_frequency == '0'), ('values_state_frequency', 'values_state_vibration')] = 'норма'\n",
    "data.head(100000)"
   ],
   "metadata": {
    "collapsed": false,
    "pycharm": {
     "name": "#%%\n"
    }
   }
  },
  {
   "cell_type": "code",
   "execution_count": 14,
   "outputs": [],
   "source": [
    "# уберем выбросы\n",
    "data.loc[(data.values_vibration > 50), 'values_vibration'] = 0\n",
    "# немного сэмитируем данные\n",
    "data.loc[(data.values_vibration > 20), 'values_vibration'] = 0"
   ],
   "metadata": {
    "collapsed": false,
    "pycharm": {
     "name": "#%%\n"
    }
   }
  },
  {
   "cell_type": "code",
   "execution_count": 15,
   "outputs": [
    {
     "data": {
      "text/plain": "<AxesSubplot:xlabel='data_time'>"
     },
     "execution_count": 15,
     "metadata": {},
     "output_type": "execute_result"
    },
    {
     "data": {
      "text/plain": "<Figure size 432x288 with 1 Axes>",
      "image/png": "[encoded data removed]"
     },
     "metadata": {
      "needs_background": "light"
     },
     "output_type": "display_data"
    }
   ],
   "source": [
    "data.plot(kind='line')"
   ],
   "metadata": {
    "collapsed": false,
    "pycharm": {
     "name": "#%%\n"
    }
   }
  },
  {
   "cell_type": "code",
   "execution_count": 16,
   "outputs": [],
   "source": [
    "# Создадим дерево решений и обучим его с одним классификатором\n",
    "clf_test = tree.DecisionTreeClassifier(criterion='entropy', max_depth=10) # Дерево решений\n",
    "X = data[['values_frequency', 'values_vibration']] # данные для обучения\n",
    "#y = data[['values_state_frequency', 'values_state_vibration']] # Данные ответ\n",
    "y = data[['values_state_frequency', 'values_state_vibration']] # Данные ответ"
   ],
   "metadata": {
    "collapsed": false,
    "pycharm": {
     "name": "#%%\n"
    }
   }
  },
  {
   "cell_type": "code",
   "execution_count": 17,
   "outputs": [
    {
     "data": {
      "text/plain": "DecisionTreeClassifier(criterion='entropy', max_depth=10)",
      "text/html": "<style>#sk-container-id-1 {color: black;background-color: white;}#sk-container-id-1 pre{padding: 0;}#sk-container-id-1 div.sk-toggleable {background-color: white;}#sk-container-id-1 label.sk-toggleable__label {cursor: pointer;display: block;width: 100%;margin-bottom: 0;padding: 0.3em;box-sizing: border-box;text-align: center;}#sk-container-id-1 label.sk-toggleable__label-arrow:before {content: \"▸\";float: left;margin-right: 0.25em;color: #696969;}#sk-container-id-1 label.sk-toggleable__label-arrow:hover:before {color: black;}#sk-container-id-1 div.sk-estimator:hover label.sk-toggleable__label-arrow:before {color: black;}#sk-container-id-1 div.sk-toggleable__content {max-height: 0;max-width: 0;overflow: hidden;text-align: left;background-color: #f0f8ff;}#sk-container-id-1 div.sk-toggleable__content pre {margin: 0.2em;color: black;border-radius: 0.25em;background-color: #f0f8ff;}#sk-container-id-1 input.sk-toggleable__control:checked~div.sk-toggleable__content {max-height: 200px;max-width: 100%;overflow: auto;}#sk-container-id-1 input.sk-toggleable__control:checked~label.sk-toggleable__label-arrow:before {content: \"▾\";}#sk-container-id-1 div.sk-estimator input.sk-toggleable__control:checked~label.sk-toggleable__label {background-color: #d4ebff;}#sk-container-id-1 div.sk-label input.sk-toggleable__control:checked~label.sk-toggleable__label {background-color: #d4ebff;}#sk-container-id-1 input.sk-hidden--visually {border: 0;clip: rect(1px 1px 1px 1px);clip: rect(1px, 1px, 1px, 1px);height: 1px;margin: -1px;overflow: hidden;padding: 0;position: absolute;width: 1px;}#sk-container-id-1 div.sk-estimator {font-family: monospace;background-color: #f0f8ff;border: 1px dotted black;border-radius: 0.25em;box-sizing: border-box;margin-bottom: 0.5em;}#sk-container-id-1 div.sk-estimator:hover {background-color: #d4ebff;}#sk-container-id-1 div.sk-parallel-item::after {content: \"\";width: 100%;border-bottom: 1px solid gray;flex-grow: 1;}#sk-container-id-1 div.sk-label:hover label.sk-toggleable__label {background-color: #d4ebff;}#sk-container-id-1 div.sk-serial::before {content: \"\";position: absolute;border-left: 1px solid gray;box-sizing: border-box;top: 0;bottom: 0;left: 50%;z-index: 0;}#sk-container-id-1 div.sk-serial {display: flex;flex-direction: column;align-items: center;background-color: white;padding-right: 0.2em;padding-left: 0.2em;position: relative;}#sk-container-id-1 div.sk-item {position: relative;z-index: 1;}#sk-container-id-1 div.sk-parallel {display: flex;align-items: stretch;justify-content: center;background-color: white;position: relative;}#sk-container-id-1 div.sk-item::before, #sk-container-id-1 div.sk-parallel-item::before {content: \"\";position: absolute;border-left: 1px solid gray;box-sizing: border-box;top: 0;bottom: 0;left: 50%;z-index: -1;}#sk-container-id-1 div.sk-parallel-item {display: flex;flex-direction: column;z-index: 1;position: relative;background-color: white;}#sk-container-id-1 div.sk-parallel-item:first-child::after {align-self: flex-end;width: 50%;}#sk-container-id-1 div.sk-parallel-item:last-child::after {align-self: flex-start;width: 50%;}#sk-container-id-1 div.sk-parallel-item:only-child::after {width: 0;}#sk-container-id-1 div.sk-dashed-wrapped {border: 1px dashed gray;margin: 0 0.4em 0.5em 0.4em;box-sizing: border-box;padding-bottom: 0.4em;background-color: white;}#sk-container-id-1 div.sk-label label {font-family: monospace;font-weight: bold;display: inline-block;line-height: 1.2em;}#sk-container-id-1 div.sk-label-container {text-align: center;}#sk-container-id-1 div.sk-container {/* jupyter's `normalize.less` sets `[hidden] { display: none; }` but bootstrap.min.css set `[hidden] { display: none !important; }` so we also need the `!important` here to be able to override the default hidden behavior on the sphinx rendered scikit-learn.org. See: https://github.com/scikit-learn/scikit-learn/issues/21755 */display: inline-block !important;position: relative;}#sk-container-id-1 div.sk-text-repr-fallback {display: none;}</style><div id=\"sk-container-id-1\" class=\"sk-top-container\"><div class=\"sk-text-repr-fallback\"><pre>DecisionTreeClassifier(criterion=&#x27;entropy&#x27;, max_depth=10)</pre><b>In a Jupyter environment, please rerun this cell to show the HTML representation or trust the notebook. <br />On GitHub, the HTML representation is unable to render, please try loading this page with nbviewer.org.</b></div><div class=\"sk-container\" hidden><div class=\"sk-item\"><div class=\"sk-estimator sk-toggleable\"><input class=\"sk-toggleable__control sk-hidden--visually\" id=\"sk-estimator-id-1\" type=\"checkbox\" checked><label for=\"sk-estimator-id-1\" class=\"sk-toggleable__label sk-toggleable__label-arrow\">DecisionTreeClassifier</label><div class=\"sk-toggleable__content\"><pre>DecisionTreeClassifier(criterion=&#x27;entropy&#x27;, max_depth=10)</pre></div></div></div></div></div>"
     },
     "execution_count": 17,
     "metadata": {},
     "output_type": "execute_result"
    }
   ],
   "source": [
    "clf_test.fit(X, y)"
   ],
   "metadata": {
    "collapsed": false,
    "pycharm": {
     "name": "#%%\n"
    }
   }
  },
  {
   "cell_type": "code",
   "execution_count": 18,
   "outputs": [
    {
     "data": {
      "text/plain": "<IPython.core.display.SVG object>",
      "image/svg+xml": "<svg xmlns=\"http://www.w3.org/2000/svg\" xmlns:xlink=\"http://www.w3.org/1999/xlink\" width=\"459pt\" height=\"433pt\" viewBox=\"0.00 0.00 459.00 433.00\">\n<g id=\"graph0\" class=\"graph\" transform=\"scale(1 1) rotate(0) translate(4 429)\">\n<title>Tree</title>\n<polygon fill=\"white\" stroke=\"transparent\" points=\"-4,4 -4,-429 455,-429 455,4 -4,4\"/>\n<!-- 0 -->\n<g id=\"node1\" class=\"node\">\n<title>0</title>\n<polygon fill=\"#ffffff\" stroke=\"black\" points=\"406,-425 196,-425 196,-342 406,-342 406,-425\"/>\n<text text-anchor=\"middle\" x=\"301\" y=\"-409.8\" font-family=\"Helvetica,sans-Serif\" font-size=\"14.00\">values_frequency &lt;= 10084.309</text>\n<text text-anchor=\"middle\" x=\"301\" y=\"-394.8\" font-family=\"Helvetica,sans-Serif\" font-size=\"14.00\">entropy = 0.41</text>\n<text text-anchor=\"middle\" x=\"301\" y=\"-379.8\" font-family=\"Helvetica,sans-Serif\" font-size=\"14.00\">samples = 45202</text>\n<text text-anchor=\"middle\" x=\"301\" y=\"-364.8\" font-family=\"Helvetica,sans-Serif\" font-size=\"14.00\">value = [[11550, 33652]</text>\n<text text-anchor=\"middle\" x=\"301\" y=\"-349.8\" font-family=\"Helvetica,sans-Serif\" font-size=\"14.00\">[1, 45201]]</text>\n</g>\n<!-- 1 -->\n<g id=\"node2\" class=\"node\">\n<title>1</title>\n<polygon fill=\"#e58139\" stroke=\"black\" points=\"305,-306 125,-306 125,-223 305,-223 305,-306\"/>\n<text text-anchor=\"middle\" x=\"215\" y=\"-290.8\" font-family=\"Helvetica,sans-Serif\" font-size=\"14.00\">values_frequency &lt;= 29.01</text>\n<text text-anchor=\"middle\" x=\"215\" y=\"-275.8\" font-family=\"Helvetica,sans-Serif\" font-size=\"14.00\">entropy = 0.0</text>\n<text text-anchor=\"middle\" x=\"215\" y=\"-260.8\" font-family=\"Helvetica,sans-Serif\" font-size=\"14.00\">samples = 33652</text>\n<text text-anchor=\"middle\" x=\"215\" y=\"-245.8\" font-family=\"Helvetica,sans-Serif\" font-size=\"14.00\">value = [[0, 33652]</text>\n<text text-anchor=\"middle\" x=\"215\" y=\"-230.8\" font-family=\"Helvetica,sans-Serif\" font-size=\"14.00\">[1, 33651]]</text>\n</g>\n<!-- 0&#45;&gt;1 -->\n<g id=\"edge1\" class=\"edge\">\n<title>0-&gt;1</title>\n<path fill=\"none\" stroke=\"black\" d=\"M271.16,-341.91C264.63,-333.01 257.64,-323.51 250.89,-314.33\"/>\n<polygon fill=\"black\" stroke=\"black\" points=\"253.53,-312.01 244.78,-306.02 247.89,-316.15 253.53,-312.01\"/>\n<text text-anchor=\"middle\" x=\"241.01\" y=\"-327.03\" font-family=\"Helvetica,sans-Serif\" font-size=\"14.00\">True</text>\n</g>\n<!-- 6 -->\n<g id=\"node7\" class=\"node\">\n<title>6</title>\n<polygon fill=\"#e58139\" stroke=\"black\" points=\"451,-298.5 323,-298.5 323,-230.5 451,-230.5 451,-298.5\"/>\n<text text-anchor=\"middle\" x=\"387\" y=\"-283.3\" font-family=\"Helvetica,sans-Serif\" font-size=\"14.00\">entropy = 0.0</text>\n<text text-anchor=\"middle\" x=\"387\" y=\"-268.3\" font-family=\"Helvetica,sans-Serif\" font-size=\"14.00\">samples = 11550</text>\n<text text-anchor=\"middle\" x=\"387\" y=\"-253.3\" font-family=\"Helvetica,sans-Serif\" font-size=\"14.00\">value = [[11550, 0]</text>\n<text text-anchor=\"middle\" x=\"387\" y=\"-238.3\" font-family=\"Helvetica,sans-Serif\" font-size=\"14.00\">[0, 11550]]</text>\n</g>\n<!-- 0&#45;&gt;6 -->\n<g id=\"edge6\" class=\"edge\">\n<title>0-&gt;6</title>\n<path fill=\"none\" stroke=\"black\" d=\"M330.84,-341.91C339.19,-330.54 348.28,-318.18 356.66,-306.77\"/>\n<polygon fill=\"black\" stroke=\"black\" points=\"359.52,-308.8 362.62,-298.67 353.88,-304.65 359.52,-308.8\"/>\n<text text-anchor=\"middle\" x=\"366.39\" y=\"-319.68\" font-family=\"Helvetica,sans-Serif\" font-size=\"14.00\">False</text>\n</g>\n<!-- 2 -->\n<g id=\"node3\" class=\"node\">\n<title>2</title>\n<polygon fill=\"#e58139\" stroke=\"black\" points=\"219,-187 39,-187 39,-104 219,-104 219,-187\"/>\n<text text-anchor=\"middle\" x=\"129\" y=\"-171.8\" font-family=\"Helvetica,sans-Serif\" font-size=\"14.00\">values_frequency &lt;= 0.035</text>\n<text text-anchor=\"middle\" x=\"129\" y=\"-156.8\" font-family=\"Helvetica,sans-Serif\" font-size=\"14.00\">entropy = 0.001</text>\n<text text-anchor=\"middle\" x=\"129\" y=\"-141.8\" font-family=\"Helvetica,sans-Serif\" font-size=\"14.00\">samples = 12263</text>\n<text text-anchor=\"middle\" x=\"129\" y=\"-126.8\" font-family=\"Helvetica,sans-Serif\" font-size=\"14.00\">value = [[0, 12263]</text>\n<text text-anchor=\"middle\" x=\"129\" y=\"-111.8\" font-family=\"Helvetica,sans-Serif\" font-size=\"14.00\">[1, 12262]]</text>\n</g>\n<!-- 1&#45;&gt;2 -->\n<g id=\"edge2\" class=\"edge\">\n<title>1-&gt;2</title>\n<path fill=\"none\" stroke=\"black\" d=\"M185.16,-222.91C178.63,-214.01 171.64,-204.51 164.89,-195.33\"/>\n<polygon fill=\"black\" stroke=\"black\" points=\"167.53,-193.01 158.78,-187.02 161.89,-197.15 167.53,-193.01\"/>\n</g>\n<!-- 5 -->\n<g id=\"node6\" class=\"node\">\n<title>5</title>\n<polygon fill=\"#e58139\" stroke=\"black\" points=\"365,-179.5 237,-179.5 237,-111.5 365,-111.5 365,-179.5\"/>\n<text text-anchor=\"middle\" x=\"301\" y=\"-164.3\" font-family=\"Helvetica,sans-Serif\" font-size=\"14.00\">entropy = 0.0</text>\n<text text-anchor=\"middle\" x=\"301\" y=\"-149.3\" font-family=\"Helvetica,sans-Serif\" font-size=\"14.00\">samples = 21389</text>\n<text text-anchor=\"middle\" x=\"301\" y=\"-134.3\" font-family=\"Helvetica,sans-Serif\" font-size=\"14.00\">value = [[0, 21389]</text>\n<text text-anchor=\"middle\" x=\"301\" y=\"-119.3\" font-family=\"Helvetica,sans-Serif\" font-size=\"14.00\">[0, 21389]]</text>\n</g>\n<!-- 1&#45;&gt;5 -->\n<g id=\"edge5\" class=\"edge\">\n<title>1-&gt;5</title>\n<path fill=\"none\" stroke=\"black\" d=\"M244.84,-222.91C253.19,-211.54 262.28,-199.18 270.66,-187.77\"/>\n<polygon fill=\"black\" stroke=\"black\" points=\"273.52,-189.8 276.62,-179.67 267.88,-185.65 273.52,-189.8\"/>\n</g>\n<!-- 3 -->\n<g id=\"node4\" class=\"node\">\n<title>3</title>\n<polygon fill=\"#e58139\" stroke=\"black\" points=\"128,-68 0,-68 0,0 128,0 128,-68\"/>\n<text text-anchor=\"middle\" x=\"64\" y=\"-52.8\" font-family=\"Helvetica,sans-Serif\" font-size=\"14.00\">entropy = 0.0</text>\n<text text-anchor=\"middle\" x=\"64\" y=\"-37.8\" font-family=\"Helvetica,sans-Serif\" font-size=\"14.00\">samples = 12262</text>\n<text text-anchor=\"middle\" x=\"64\" y=\"-22.8\" font-family=\"Helvetica,sans-Serif\" font-size=\"14.00\">value = [[0, 12262]</text>\n<text text-anchor=\"middle\" x=\"64\" y=\"-7.8\" font-family=\"Helvetica,sans-Serif\" font-size=\"14.00\">[0, 12262]]</text>\n</g>\n<!-- 2&#45;&gt;3 -->\n<g id=\"edge3\" class=\"edge\">\n<title>2-&gt;3</title>\n<path fill=\"none\" stroke=\"black\" d=\"M104.8,-103.73C99.6,-94.97 94.1,-85.7 88.88,-76.91\"/>\n<polygon fill=\"black\" stroke=\"black\" points=\"91.88,-75.11 83.77,-68.3 85.86,-78.69 91.88,-75.11\"/>\n</g>\n<!-- 4 -->\n<g id=\"node5\" class=\"node\">\n<title>4</title>\n<polygon fill=\"#e58139\" stroke=\"black\" points=\"244,-68 146,-68 146,0 244,0 244,-68\"/>\n<text text-anchor=\"middle\" x=\"195\" y=\"-52.8\" font-family=\"Helvetica,sans-Serif\" font-size=\"14.00\">entropy = 0.0</text>\n<text text-anchor=\"middle\" x=\"195\" y=\"-37.8\" font-family=\"Helvetica,sans-Serif\" font-size=\"14.00\">samples = 1</text>\n<text text-anchor=\"middle\" x=\"195\" y=\"-22.8\" font-family=\"Helvetica,sans-Serif\" font-size=\"14.00\">value = [[0, 1]</text>\n<text text-anchor=\"middle\" x=\"195\" y=\"-7.8\" font-family=\"Helvetica,sans-Serif\" font-size=\"14.00\">[1, 0]]</text>\n</g>\n<!-- 2&#45;&gt;4 -->\n<g id=\"edge4\" class=\"edge\">\n<title>2-&gt;4</title>\n<path fill=\"none\" stroke=\"black\" d=\"M153.58,-103.73C158.85,-94.97 164.44,-85.7 169.74,-76.91\"/>\n<polygon fill=\"black\" stroke=\"black\" points=\"172.76,-78.67 174.93,-68.3 166.77,-75.06 172.76,-78.67\"/>\n</g>\n</g>\n</svg>"
     },
     "metadata": {},
     "output_type": "display_data"
    }
   ],
   "source": [
    "graph = Source(tree.export_graphviz(clf_test, out_file=None\n",
    "                                    , feature_names=list(X), class_names=['норма', 'аварийно высокое']\n",
    "                                    , filled=True))\n",
    "display(SVG(graph.pipe(format='svg')))   # Переобученная модель"
   ],
   "metadata": {
    "collapsed": false,
    "pycharm": {
     "name": "#%%\n"
    }
   }
  },
  {
   "cell_type": "code",
   "execution_count": 19,
   "outputs": [
    {
     "name": "stderr",
     "output_type": "stream",
     "text": [
      "/Users/nikolaibabuhin/PycharmProjects/sirius_data/venv/lib/python3.8/site-packages/sklearn/base.py:450: UserWarning: X does not have valid feature names, but DecisionTreeClassifier was fitted with feature names\n",
      "  warnings.warn(\n"
     ]
    },
    {
     "data": {
      "text/plain": "array([['аварийно высокое', 'норма']], dtype=object)"
     },
     "execution_count": 19,
     "metadata": {},
     "output_type": "execute_result"
    }
   ],
   "source": [
    "clf_test.predict([[14259, 7]])"
   ],
   "metadata": {
    "collapsed": false,
    "pycharm": {
     "name": "#%%\n"
    }
   }
  },
  {
   "cell_type": "code",
   "execution_count": 19,
   "outputs": [],
   "source": [],
   "metadata": {
    "collapsed": false,
    "pycharm": {
     "name": "#%%\n"
    }
   }
  },
  {
   "cell_type": "code",
   "execution_count": 19,
   "outputs": [],
   "source": [],
   "metadata": {
    "collapsed": false,
    "pycharm": {
     "name": "#%%\n"
    }
   }
  },
  {
   "cell_type": "code",
   "execution_count": 19,
   "outputs": [],
   "source": [],
   "metadata": {
    "collapsed": false,
    "pycharm": {
     "name": "#%%\n"
    }
   }
  },
  {
   "cell_type": "code",
   "execution_count": 19,
   "outputs": [],
   "source": [],
   "metadata": {
    "collapsed": false,
    "pycharm": {
     "name": "#%%\n"
    }
   }
  },
  {
   "cell_type": "code",
   "execution_count": 19,
   "outputs": [],
   "source": [],
   "metadata": {
    "collapsed": false,
    "pycharm": {
     "name": "#%%\n"
    }
   }
  },
  {
   "cell_type": "code",
   "execution_count": 19,
   "outputs": [],
   "source": [],
   "metadata": {
    "collapsed": false,
    "pycharm": {
     "name": "#%%\n"
    }
   }
  },
  {
   "cell_type": "code",
   "execution_count": 19,
   "outputs": [],
   "source": [],
   "metadata": {
    "collapsed": false,
    "pycharm": {
     "name": "#%%\n"
    }
   }
  },
  {
   "cell_type": "code",
   "execution_count": 19,
   "outputs": [],
   "source": [],
   "metadata": {
    "collapsed": false,
    "pycharm": {
     "name": "#%%\n"
    }
   }
  },
  {
   "cell_type": "code",
   "execution_count": 19,
   "outputs": [],
   "source": [],
   "metadata": {
    "collapsed": false,
    "pycharm": {
     "name": "#%%\n"
    }
   }
  },
  {
   "cell_type": "code",
   "execution_count": 19,
   "outputs": [],
   "source": [],
   "metadata": {
    "collapsed": false,
    "pycharm": {
     "name": "#%%\n"
    }
   }
  },
  {
   "cell_type": "code",
   "execution_count": 19,
   "outputs": [],
   "source": [],
   "metadata": {
    "collapsed": false,
    "pycharm": {
     "name": "#%%\n"
    }
   }
  },
  {
   "cell_type": "code",
   "execution_count": 19,
   "outputs": [],
   "source": [],
   "metadata": {
    "collapsed": false,
    "pycharm": {
     "name": "#%%\n"
    }
   }
  },
  {
   "cell_type": "code",
   "execution_count": 19,
   "outputs": [],
   "source": [],
   "metadata": {
    "collapsed": false,
    "pycharm": {
     "name": "#%%\n"
    }
   }
  },
  {
   "cell_type": "code",
   "execution_count": 19,
   "outputs": [],
   "source": [],
   "metadata": {
    "collapsed": false,
    "pycharm": {
     "name": "#%%\n"
    }
   }
  },
  {
   "cell_type": "code",
   "execution_count": 19,
   "outputs": [],
   "source": [],
   "metadata": {
    "collapsed": false,
    "pycharm": {
     "name": "#%%\n"
    }
   }
  },
  {
   "cell_type": "code",
   "execution_count": 19,
   "outputs": [],
   "source": [],
   "metadata": {
    "collapsed": false,
    "pycharm": {
     "name": "#%%\n"
    }
   }
  },
  {
   "cell_type": "code",
   "execution_count": 19,
   "outputs": [],
   "source": [],
   "metadata": {
    "collapsed": false,
    "pycharm": {
     "name": "#%%\n"
    }
   }
  },
  {
   "cell_type": "code",
   "execution_count": 19,
   "outputs": [],
   "source": [],
   "metadata": {
    "collapsed": false,
    "pycharm": {
     "name": "#%%\n"
    }
   }
  },
  {
   "cell_type": "code",
   "execution_count": 19,
   "outputs": [],
   "source": [],
   "metadata": {
    "collapsed": false,
    "pycharm": {
     "name": "#%%\n"
    }
   }
  },
  {
   "cell_type": "code",
   "execution_count": 19,
   "outputs": [],
   "source": [],
   "metadata": {
    "collapsed": false,
    "pycharm": {
     "name": "#%%\n"
    }
   }
  },
  {
   "cell_type": "code",
   "execution_count": 19,
   "outputs": [],
   "source": [],
   "metadata": {
    "collapsed": false,
    "pycharm": {
     "name": "#%%\n"
    }
   }
  },
  {
   "cell_type": "code",
   "execution_count": 19,
   "outputs": [],
   "source": [],
   "metadata": {
    "collapsed": false,
    "pycharm": {
     "name": "#%%\n"
    }
   }
  },
  {
   "cell_type": "code",
   "execution_count": 19,
   "outputs": [],
   "source": [],
   "metadata": {
    "collapsed": false,
    "pycharm": {
     "name": "#%%\n"
    }
   }
  },
  {
   "cell_type": "code",
   "execution_count": 19,
   "outputs": [],
   "source": [],
   "metadata": {
    "collapsed": false,
    "pycharm": {
     "name": "#%%\n"
    }
   }
  },
  {
   "cell_type": "code",
   "execution_count": 19,
   "outputs": [],
   "source": [],
   "metadata": {
    "collapsed": false,
    "pycharm": {
     "name": "#%%\n"
    }
   }
  },
  {
   "cell_type": "code",
   "execution_count": 19,
   "outputs": [],
   "source": [],
   "metadata": {
    "collapsed": false,
    "pycharm": {
     "name": "#%%\n"
    }
   }
  },
  {
   "cell_type": "code",
   "execution_count": 19,
   "outputs": [],
   "source": [],
   "metadata": {
    "collapsed": false,
    "pycharm": {
     "name": "#%%\n"
    }
   }
  },
  {
   "cell_type": "code",
   "execution_count": 19,
   "outputs": [],
   "source": [],
   "metadata": {
    "collapsed": false,
    "pycharm": {
     "name": "#%%\n"
    }
   }
  },
  {
   "cell_type": "code",
   "execution_count": 19,
   "outputs": [],
   "source": [],
   "metadata": {
    "collapsed": false,
    "pycharm": {
     "name": "#%%\n"
    }
   }
  },
  {
   "cell_type": "code",
   "execution_count": 19,
   "outputs": [],
   "source": [],
   "metadata": {
    "collapsed": false,
    "pycharm": {
     "name": "#%%\n"
    }
   }
  },
  {
   "cell_type": "code",
   "execution_count": 19,
   "outputs": [],
   "source": [],
   "metadata": {
    "collapsed": false,
    "pycharm": {
     "name": "#%%\n"
    }
   }
  }
 ],
 "metadata": {
  "kernelspec": {
   "display_name": "Python 3",
   "language": "python",
   "name": "python3"
  },
  "language_info": {
   "codemirror_mode": {
    "name": "ipython",
    "version": 2
   },
   "file_extension": ".py",
   "mimetype": "text/x-python",
   "name": "python",
   "nbconvert_exporter": "python",
   "pygments_lexer": "ipython2",
   "version": "2.7.6"
  }
 },
 "nbformat": 4,
 "nbformat_minor": 0
}